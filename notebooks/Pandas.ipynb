{
 "cells": [
  {
   "cell_type": "markdown",
   "metadata": {},
   "source": [
    "<img src=\"https://datasciencecampus.ons.gov.uk/wp-content/uploads/sites/10/2017/03/data-science-campus-logo-new.svg\"\n",
    "             alt=\"ONS Data Science Campus Logo\"\n",
    "             width = \"240\"\n",
    "             style=\"margin: 0px 60px\"\n",
    "             />"
   ]
  },
  {
   "cell_type": "code",
   "execution_count": null,
   "metadata": {},
   "outputs": [],
   "source": [
    "# import the helper functions from the parent directory,\n",
    "# these help with things like graph plotting and notebook layout\n",
    "import sys\n",
    "sys.path.append('..')\n",
    "from helper_functions import *\n",
    "\n",
    "# set things like fonts etc - comes from helper_functions\n",
    "set_notebook_preferences()\n",
    "\n",
    "# add a show/hide code button - also from helper_functions\n",
    "toggle_code(title = \"import functions\")"
   ]
  },
  {
   "cell_type": "markdown",
   "metadata": {},
   "source": [
    "# The Pandas Library - Objects for Data Science\n",
    "\n",
    "\n",
    "\n",
    "## 1.1 General Purpose Objects\n",
    "\n",
    "The data structures - lists, tuples, and dictionaries, are the core, in-built data structures available in python. They are always available for use and easily created and destroyed. They are general purpose which means they are useful in many situations, however, they may not allow us to complete specific tasks as easily as we would like.\n",
    "\n",
    "Nonetheless, it is really important to know a bit about lists, tuples and dictionaries because they are used throughout python, and you will be very likely to encounter them in some form. Perhaps as an output from a function or method; as a way of providing input to a procedure; or, as the way that the library you are using stores properties.\n",
    "\n",
    "Many advanced python libraries that have been built for specific purposes, like data science, take advantage of the fact that objects are extensible. Programmers can create new classes based on existing objects and add in specific properties or methods that do specific things. This means that general purpose objects can be customised for particular tasks.\n",
    "\n",
    "In data science applications, the Pandas library provides specialised objects that make working with data tables a lot easier than if we had to rely on python's general purpose objects. However, because pandas objects are specialised, they are also more complicated than general purpose objects.\n",
    "\n",
    "Pandas adds two important data structures that we need to know about. The 1 dimensional `Series` and the 2 dimensional `DataFrame`.\n",
    "\n",
    "\n",
    "## 1.2 Series Objects\n",
    "\n",
    "* A Series is like a one-dimensional array (effectively a list) with a label for each observation.\n",
    "\n",
    "* You can think of a Series as being similar to a single column in a spreadsheet: a list of values.\n",
    "\n",
    "* However, the items in a Series must all be of the same data type, unlike a list.\n",
    "\n",
    "* The Series index provides a label for each observation, the default is for consecutive integer labels starting at 0.\n",
    "\n",
    "* However, a Series index does not have to be consecutive numbers, they can be non-unique numbers, non-consecutive numbers, as well as string objects or tuples.\n",
    "\n",
    "* As such, the Series itself is a bit like a list, whereas the Series index is a bit like a dictionary, and is able to return a value in the Series based on the index, like a key-value pair.\n",
    "\n",
    "* The Series object implements a large number of special behaviours (methods, procedures) that can be called on the data held in a Series to get useful outputs. This includes mathematical functions, like taking the average of all values in a numerical Series.\n",
    "\n",
    "## 1.3 DataFrame Objects\n",
    "\n",
    "* A DataFrame is a two-dimensional version of a Series object.\n",
    "\n",
    "* In effect, a DataFrame is a collection of Series objects - one Series for each column in the DataFrame.\n",
    "\n",
    "* A DataFrame is thus similar to a whole spreadsheet, like an Excel file, a STATA .dta file, a SAS file, an SPSS .sav file etc.\n",
    "\n",
    "* A DataFrame can hold columns with different data types, but as per Series above, any single column must contain values of the same data type.\n",
    "\n",
    "* The dimensions are labeled in a similar way to the Series object:\n",
    "\n",
    "    * **index** - refers to the row labels\n",
    "    * **columns** - refers to the column labels\n",
    "    \n",
    " * Having indexed data allows fast look up and powerful relational operations \n",
    " \n",
    " * Each row has a label and each column has a label\n",
    "\n",
    "Most the the time you'll be working with DataFrame objects in Pandas, however, as DataFrames are composed of Series, it is very likely that through indexing, selection, creation of new columns, and analysis you'll encounter Series objects too. Luckily, DataFrame and Series objects are similar, DataFrames effectively extend the Series into two-dimensions and as such implement some additional properties and methods that may not be relevant to Series on their own."
   ]
  },
  {
   "cell_type": "markdown",
   "metadata": {},
   "source": [
    "## 1.4 Import Pandas\n"
   ]
  },
  {
   "cell_type": "code",
   "execution_count": null,
   "metadata": {
    "collapsed": true
   },
   "outputs": [],
   "source": [
    "# importing pandas is this simple!\n",
    "import pandas as pd"
   ]
  },
  {
   "cell_type": "markdown",
   "metadata": {},
   "source": [
    "The above code cell has two lines.\n",
    "\n",
    "The first line is a comment - Python (and other languages) \"skip\" anything with a # infront of it.\n",
    "\n",
    "On the second line I've written my import statement. There are two parts to this statement:\n",
    "1. `import pandas`\n",
    "2. `as pd`\n",
    "\n",
    "In python, it is sufficient just to write `import pandas`.\n",
    "\n",
    "`pd` is a common nickname or 'alias' used for pandas - rather than write 'pandas' each time I can just write 'pd.'\n",
    "\n",
    "Many packages have nicknames that are consistently applied by members of the wider python community, such as pandas being pd. You don't have to adhere to these conventions, but you'll probably see them used a lot in training and help materials online.\n",
    "\n",
    "When you successfully import a module, you don't usually get any feedback. However, if you get it wrong you'll get an error message that should give you some idea of what happened, for instance:"
   ]
  },
  {
   "cell_type": "code",
   "execution_count": null,
   "metadata": {
    "collapsed": true
   },
   "outputs": [],
   "source": [
    "# If you run this code cell you should get a 'ModuleNotFoundError' as there is no 'pandahs' module!\n",
    "import pandahs # by the way, I can also comment on the end of lines too!"
   ]
  },
  {
   "cell_type": "markdown",
   "metadata": {},
   "source": [
    "## 1.5 Reading in Data\n",
    "\n",
    "Now that you've loaded pandas, lets read some data into python and see what that looks like.\n",
    "\n",
    "Pandas can read data in a variety of different formats. In the code cell below type pd.read then press **Tab**\n",
    "\n",
    "Pressing Tab gives you all the things you can do with pandas that start with 'read'. You probably recognise some of the data input types (e.g. Excel, SAS, Stata), while others you may not have heard of (e.g. pickle, json etc.) You can then select whichever method you wish to use.\n",
    "\n",
    "**Tab** is a really useful shortcut to know for finding or completing commands in notebooks. "
   ]
  },
  {
   "cell_type": "markdown",
   "metadata": {},
   "source": [
    "As you can see, we can read in a large variety of data using pandas data readers.\n",
    "\n",
    "(NB There isn't a specific reader for SPSS files - it is possible to read .sav files, unfortunately you need another library called savReaderWriter at the moment.)\n",
    "\n",
    "## 1.6 Reading a CSV file\n",
    "\n",
    "Now that you've seen the different options, try reading a simple csv (comma separated value) dataset. \n",
    "\n",
    "To read a csv file, the only piece of information we absolutely need is the location of the file.\n",
    "\n",
    "The file is called 'titanic.csv' and is in the data folder.\n",
    "\n",
    "The code below demonstrates how you can read these data."
   ]
  },
  {
   "cell_type": "code",
   "execution_count": null,
   "metadata": {},
   "outputs": [],
   "source": [
    "# Read the data using an absolute path\n",
    "titanic = pd.read_csv('C:/intro to Python/titanic.csv')"
   ]
  },
  {
   "cell_type": "markdown",
   "metadata": {},
   "source": [
    "## 1.7 Exploring the Data\n",
    "\n",
    "There are a number of variables within this dataset:\n",
    "* pclass = Passenger class of travel.\n",
    "* survived = 1 if the passenger survived the sinking, 0 if not.\n",
    "* name = Full name of the passenger, including title.\n",
    "* sex = Passenger gender.\n",
    "* age = Passenger age.\n",
    "* sibsp = Count of siblings or spouse also aboard.\n",
    "* Parch = Count of parents or children also aboard.\n",
    "* ticket = Ticket reference.\n",
    "* fare = fare paid.\n",
    "* cabin = Cabin number.\n",
    "* embarked = Port of embarkation. (S = Southampton (UK); C = Cherbourg (France); Q = Queenstown (Cobh, Ireland))\n",
    "\n",
    "\n",
    "\n",
    "The first thing we may want to do having read in a DataFrame is to take a quick overview and check it looks right.\n",
    "\n",
    "There are several DataFrame methods we might use to do this: `.head()`, `.tail()` and `.sample()`"
   ]
  },
  {
   "cell_type": "code",
   "execution_count": null,
   "metadata": {},
   "outputs": [],
   "source": [
    "# head shows the first n rows of the dataframe (5 by default).\n",
    "titanic.head()"
   ]
  },
  {
   "cell_type": "code",
   "execution_count": null,
   "metadata": {
    "collapsed": true
   },
   "outputs": [],
   "source": [
    "# tail shows the last n rows of a dataframe (5 by default)\n",
    "titanic.tail(3)"
   ]
  },
  {
   "cell_type": "code",
   "execution_count": null,
   "metadata": {
    "collapsed": true
   },
   "outputs": [],
   "source": [
    "# sample shows n rows chosen at random from the dataframe (1 by default)\n",
    "titanic.sample(4)"
   ]
  },
  {
   "cell_type": "code",
   "execution_count": null,
   "metadata": {
    "collapsed": true
   },
   "outputs": [],
   "source": [
    "# dimensions of dataframe\n",
    "titanic.shape"
   ]
  },
  {
   "cell_type": "code",
   "execution_count": null,
   "metadata": {
    "collapsed": true
   },
   "outputs": [],
   "source": [
    "# get the number of rows and columns\n",
    "# NB This line 'unpacks' the tuple returned by shape\n",
    "numrows, numcols = titanic.shape"
   ]
  },
  {
   "cell_type": "code",
   "execution_count": null,
   "metadata": {
    "collapsed": true
   },
   "outputs": [],
   "source": [
    "# number of rows using pythons inbuilt len() function (len meaning 'length')\n",
    "numrows = len(titanic)\n",
    "# print the number of rows using f-string formatting.\n",
    "print(f\"There are {numrows} rows in the titanic dataframe\")"
   ]
  },
  {
   "cell_type": "code",
   "execution_count": null,
   "metadata": {
    "collapsed": true
   },
   "outputs": [],
   "source": [
    "#type of object\n",
    "type(titanic)"
   ]
  },
  {
   "cell_type": "code",
   "execution_count": null,
   "metadata": {
    "collapsed": true
   },
   "outputs": [],
   "source": [
    "# get column data types in dataframe\n",
    "titanic.dtypes"
   ]
  },
  {
   "cell_type": "markdown",
   "metadata": {},
   "source": [
    "Remember our different data types - \n",
    "\n",
    "* **int** indicates integers, 'parch' for instance is recording counts as whole numbers, such as: 0, 1, 2 etc.\n",
    "* **float** indicates 'floating-point numbers', effectively decimal numbers like in the age column.\n",
    "* **object** indicates text, also known as 'string' data. The 'name' column gives passenger full names and titles.\n",
    "* **bool** which indicates Boolean values, Booleans encode True or False values.\n",
    "\n",
    "Other data types you might see include:\n",
    "* **datetime** which encodes date and time values.\n",
    "* **category** which is a special Pandas datatype for categorical or factor variables.\n"
   ]
  },
  {
   "cell_type": "code",
   "execution_count": null,
   "metadata": {
    "collapsed": true
   },
   "outputs": [],
   "source": [
    "# Column names are really easy to get!\n",
    "colnames = titanic.columns\n",
    "colnames"
   ]
  },
  {
   "cell_type": "code",
   "execution_count": null,
   "metadata": {
    "collapsed": true
   },
   "outputs": [],
   "source": [
    "columnsNamesArr = titanic.columns.values\n",
    "columnsNamesArr"
   ]
  },
  {
   "cell_type": "code",
   "execution_count": null,
   "metadata": {
    "collapsed": true
   },
   "outputs": [],
   "source": [
    "# colnames is an index object, if we wanted a list we could use:\n",
    "\n",
    "colnames = list(colnames)\n",
    "colnames"
   ]
  },
  {
   "cell_type": "code",
   "execution_count": null,
   "metadata": {
    "collapsed": true
   },
   "outputs": [],
   "source": [
    "#DataFrames also have an `.info()` method which returns a concise summary of information about the Data.\n",
    "titanic.info()"
   ]
  },
  {
   "cell_type": "markdown",
   "metadata": {},
   "source": [
    "Note the different counts in the information above, this suggests that some variables are completely observed (e.g. pclass, survived), while others have missing data values (e.g. age, embarked, cabin).\n",
    "\n",
    "When you read a DataFrame into pandas, the data are loaded in memory. This means that any changes you make won't be reflected in the original file you loaded. If you want to preserve the changes you make to the dataset you have to export the DataFrame object to a file.\n",
    "\n",
    "Pandas has a number of file writers. Let's save the `titanic` DataFrame as an excel file."
   ]
  },
  {
   "cell_type": "code",
   "execution_count": null,
   "metadata": {
    "collapsed": true
   },
   "outputs": [],
   "source": [
    "# File writers are prefixed with .to_ press tab to find avaialble options.\n",
    "titanic.to_excel('../Save/titanic.xlsx')"
   ]
  },
  {
   "cell_type": "markdown",
   "metadata": {},
   "source": [
    "## 1.8 Getting Help \n",
    "\n",
    "Most python modules include information on how to use their functions with something called a 'docstring'. You can look at docstrings using python's in-built help() function. Run the code below to look at the docstring for the pandas read_csv function."
   ]
  },
  {
   "cell_type": "code",
   "execution_count": null,
   "metadata": {
    "collapsed": true
   },
   "outputs": [],
   "source": [
    "# Have a look at the docstring using python.\n",
    "help(pd.read_csv)"
   ]
  },
  {
   "cell_type": "markdown",
   "metadata": {},
   "source": [
    "When you're using a notebook, you can also access the docstring by pressing Shift-Tab with the cursor somewhere in the object. This produces a **tool-tip**. A small pop-up box with relevant information.\n",
    "\n",
    "Pressing Tab once shows the parameters available for the particular object you are looking at.  \n",
    "Pressing Tab twice shows the whole docstring.  \n",
    "Pressing Tab a third time makes the tool-tip linger for 10 seconds.  \n",
    "Pressing Tab a fourth time put the tool-tip into a larger pane in the browser.  \n",
    "\n",
    "The tool-tip provides the same information as the `help()` function, but with nicer formatting!"
   ]
  },
  {
   "cell_type": "code",
   "execution_count": null,
   "metadata": {},
   "outputs": [],
   "source": [
    "help(pd.read_csv)"
   ]
  },
  {
   "cell_type": "markdown",
   "metadata": {},
   "source": [
    "**Docstrings**\n",
    "\n",
    "\n",
    "Docstrings look a bit scary at first, but once you learn how to read them they're super useful!\n",
    "\n",
    "The first block of text is the function we're looking at - read_csv - followed by all the possible parameters you can use to modify how pandas reads a csv file.\n",
    "\n",
    "Note that the first parameter is 'filepath_or_buffer', that's currently all you're passing to this function - the filepath of 'MarvelUniverse.csv'.\n",
    "\n",
    "If you scroll down a little, you can then see all of the possible parameters listed and described.\n",
    "\n",
    "E.g If your data were semi-colon delimited you'd have to specify the 'sep' parameter. \n",
    "No header row? (i.e. column names) you could set 'header' to None.\n",
    "\n",
    "At the very bottom of the docstring, you can see that read_csv function returns a 'DataFrame'.\n",
    "\n",
    "Don't get too hung up on docstrings for now though, as you become more experienced they'll begin to make more sense!\n",
    "<br>"
   ]
  },
  {
   "cell_type": "code",
   "execution_count": null,
   "metadata": {
    "collapsed": true
   },
   "outputs": [],
   "source": []
  }
 ],
 "metadata": {
  "kernelspec": {
   "display_name": "Python 3",
   "language": "python",
   "name": "python3"
  },
  "language_info": {
   "codemirror_mode": {
    "name": "ipython",
    "version": 3
   },
   "file_extension": ".py",
   "mimetype": "text/x-python",
   "name": "python",
   "nbconvert_exporter": "python",
   "pygments_lexer": "ipython3",
   "version": "3.6.1"
  }
 },
 "nbformat": 4,
 "nbformat_minor": 4
}
