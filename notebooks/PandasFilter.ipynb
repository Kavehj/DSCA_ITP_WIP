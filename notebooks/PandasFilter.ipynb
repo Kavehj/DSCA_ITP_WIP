{
 "cells": [
  {
   "cell_type": "markdown",
   "metadata": {},
   "source": [
    "<img src=\"https://datasciencecampus.ons.gov.uk/wp-content/uploads/sites/10/2017/03/data-science-campus-logo-new.svg\"\n",
    "             alt=\"ONS Data Science Campus Logo\"\n",
    "             width = \"240\"\n",
    "             style=\"margin: 0px 60px\"\n",
    "             />"
   ]
  },
  {
   "cell_type": "code",
   "execution_count": 8,
   "metadata": {},
   "outputs": [
    {
     "data": {
      "text/html": [
       "<style>.output {\n",
       "    font-family: ariel;\n",
       "    align-items: normal;\n",
       "    text-align: normal;\n",
       "}\n",
       "\n",
       "div.output_svg div { margin : auto; }\n",
       ".div.output_area.MathJax_Display{ text-align: center; }\n",
       "div.text_cell_render { font-family: sans-serif; }\n",
       "\n",
       "details {\n",
       "    margin: 20px 0px;\n",
       "    padding: 0px 10px;\n",
       "    border-radius: 3px;\n",
       "    border-style: solid;\n",
       "    border-color: black;\n",
       "    border-width: 2px;\n",
       "}\n",
       "details div{padding: 20px 30px;}\n",
       "details summary{font-size: 18px;}\n",
       "\n",
       "table {\n",
       "     margin: calc(auto + 10px) !important;\n",
       "     border: solid !important;\n",
       " }\n",
       "\n",
       " th, td {\n",
       "    text-align: left !important;\n",
       " }\n",
       "\n",
       " .further_box {\n",
       "    background-color:rgb(230, 230, 230);\n",
       "    border-style: solid;\n",
       "    margin: 10px 10px 10px 0px;\n",
       "    padding: 10px;\n",
       "    left:calc(auto - 20px);\n",
       " }\n",
       "\n",
       " .question_box {\n",
       "    background-color:rgb(255, 255, 225);\n",
       "    border-style: solid;\n",
       "    margin: 10px 10px 10px 0px;\n",
       "    padding: 10px;\n",
       "    left:calc(auto - 20px);\n",
       " }</style>\n",
       "     <input type=\"submit\" value='Home' id=\"initiated\" class='home_button' onclick='window.location=\"Index.ipynb\"' style='float: right; margin-right: 40px;'>\n",
       "    <script>\n",
       "    $('.home_button').not('#initiated').remove();\n",
       "    $('.home_button').removeAttr('id');\n",
       "    $(\".home_button\").insertBefore($(\"div.cell\").first());\n",
       "    \n",
       "    $('div.input.init_hidden').hide()\n",
       "    $('div.input.init_shown').show()\n",
       "    $('.toggle_button').each(function( index, element ) {\n",
       "       var prefix;\n",
       "       if (this.classList.contains('init_show')) {\n",
       "           prefix = 'Show '\n",
       "       }\n",
       "       else if (this.classList.contains('init_hide')) {\n",
       "           prefix = 'Hide '\n",
       "       };\n",
       "       $(this).val(prefix + $(this).val().substr($(this).val().indexOf(\" \") + 1))\n",
       "    });\n",
       "    IPython.OutputArea.prototype._should_scroll = function(lines) {\n",
       "        return false;\n",
       "    }\n",
       "    </script>\n",
       "    "
      ],
      "text/plain": [
       "<IPython.core.display.HTML object>"
      ]
     },
     "metadata": {},
     "output_type": "display_data"
    },
    {
     "data": {
      "text/html": [
       "\n",
       "    <script>\n",
       "      function get_new_label(butn, hide) {\n",
       "          var shown = $(butn).parents(\"div.cell.code_cell\").find('div.input').is(':visible');\n",
       "          var title = $(butn).val().substr($(butn).val().indexOf(\" \") + 1)\n",
       "          return ((shown) ? 'Show ' : 'Hide ') + title\n",
       "      }\n",
       "      function code_toggle(butn, hide) {\n",
       "        $(butn).val(get_new_label(butn,hide));\n",
       "        $(hide).slideToggle();\n",
       "      };\n",
       "    </script>\n",
       "    <input type=\"submit\" value='initiated' class='toggle_button'>\n",
       "    <script>\n",
       "        var hide_area = $(\".toggle_button[value='initiated']\").parents('div.cell').prevAll().addBack().slice(-1)\n",
       "        hide_area = $(hide_area).find(\"div.input\").add($(hide_area).filter(\"div.text_cell\"))\n",
       "        $(\".toggle_button[value='initiated']\").prop(\"hide_area\", hide_area)\n",
       "        $(\".toggle_button[value='initiated']\").click(function(){\n",
       "            code_toggle(this, $(this).prop(\"hide_area\"))\n",
       "        });\n",
       "$(\".toggle_button[value='initiated']\").parents(\"div.output_area\").insertBefore($(\".toggle_button[value='initiated']\").parents(\"div.output\").find('div.output_area').first());\n",
       "    var shown = $(\".toggle_button[value='initiated']\").parents(\"div.cell.code_cell\").find('div.input').is(':visible');\n",
       "    var title = ((shown) ? 'Hide ' : 'Show ') + 'import functions';\n",
       "     $(\".toggle_button[value='initiated']\").addClass(\"init_show\");\n",
       "            $(hide_area).addClass(\"init_hidden\");  $(\".toggle_button[value='initiated']\").val(title);\n",
       "    </script>"
      ],
      "text/plain": [
       "<IPython.core.display.HTML object>"
      ]
     },
     "metadata": {},
     "output_type": "display_data"
    }
   ],
   "source": [
    "# import the helper functions from the parent directory,\n",
    "# these help with things like graph plotting and notebook layout\n",
    "import sys\n",
    "sys.path.append('..')\n",
    "from helper_functions import *\n",
    "\n",
    "# set things like fonts etc - comes from helper_functions\n",
    "set_notebook_preferences()\n",
    "\n",
    "# add a show/hide code button - also from helper_functions\n",
    "toggle_code(title = \"import functions\")"
   ]
  },
  {
   "cell_type": "markdown",
   "metadata": {},
   "source": [
    "# Selecting and Filtering DataFrames\n",
    "\n",
    "Over the following sections, we will learn how to select and filter data using pandas DataFrames. This is one of the most useful and powerful features of pandas.  \n",
    "\n",
    "It is useful for a range of reasons, from simply cutting down a large dataset into the specific sub-sets of data required for analysis, to managing the various components of a model (e.g. dependent and independent variables, training and test data etc.) and conducting specific subgroup analyses.\n",
    "\n",
    "Selecting and filtering can be done by using the indexing operator. Pandas uses the same indexing operator as lists, tuples, and dictionaries - `[]` (square brackets).\n",
    "\n",
    "However, the DataFrame indexing operator is more sophisticated than one used for the python built-in data structures, the behaviour of the DataFrame indexer depends, as you'll see, on what you pass to the DataFrame indexing operator. This allows you to pass different kinds of information to the same indexing operator and get specific outputs."
   ]
  },
  {
   "cell_type": "markdown",
   "metadata": {},
   "source": [
    "## 2.1 Selecting Columns from DataFrames\n",
    "\n",
    "The simplest way to select a column from a dataframe is to use the name of that column!"
   ]
  },
  {
   "cell_type": "code",
   "execution_count": null,
   "metadata": {
    "collapsed": true
   },
   "outputs": [],
   "source": [
    "# Select by passing the name of a column as a string.\n",
    "passengers = titanic['name']\n",
    "passengers.head()"
   ]
  },
  {
   "cell_type": "markdown",
   "metadata": {},
   "source": [
    "In the code above, the following things happen:\n",
    "1. We index the DataFrame `titanic` using the column header.\n",
    "2. Assuming 'name' is a legitimate column header, a pandas Series is returned.\n",
    "3. This Series, representing the 'name' column of the `titanic` Dataframe, is assigned to a variable called `passengers`\n",
    "5. Finally, we look at the first 5 rows of the Series object `passengers`\n",
    "\n",
    "If we want to select multiple columns, we have to first collect the column names together using a list, and then pass that to the DataFrame indexing operator."
   ]
  },
  {
   "cell_type": "code",
   "execution_count": null,
   "metadata": {
    "collapsed": true
   },
   "outputs": [],
   "source": [
    "# First make a list of column names called cols\n",
    "cols = ['name','age']\n",
    "# Use cols to select multiple columns from marvel.\n",
    "passenger_cols = titanic[cols]\n",
    "passenger_cols.head()"
   ]
  },
  {
   "cell_type": "markdown",
   "metadata": {},
   "source": [
    "The code above is very similar to the code for selecting a single column, the main difference is that to select multiple columns we pass a list of string objects, rather that a single string object directly.\n",
    "\n",
    "However, because we have selected multiple columns, the `passenger_cols` object is actually a DataFrame, rather than a Series object.\n",
    "\n",
    "Note, that we don't have to create the `cols` list first, we can actually create it on-the-fly in the indexing operator, you just have to learn to distinguish the list constructor square brackets from the indexing square brackets!"
   ]
  },
  {
   "cell_type": "code",
   "execution_count": null,
   "metadata": {
    "collapsed": true
   },
   "outputs": [],
   "source": [
    "# select multiple columns directly.\n",
    "passenger_cols = titanic[['name','age']]\n",
    "passenger_cols.head()"
   ]
  },
  {
   "cell_type": "code",
   "execution_count": null,
   "metadata": {
    "collapsed": true
   },
   "outputs": [],
   "source": [
    "# Just have a look, rather than assigning to a variable\n",
    "titanic[['name','age']].head()"
   ]
  },
  {
   "cell_type": "markdown",
   "metadata": {},
   "source": [
    "## Exercise 1\n",
    "\n",
    "1. Refresh your memory of the titanic data by getting:\n",
    "    * The number of rows and columns in the DataFrame\n",
    "    * The datatypes of the columns.\n",
    "    * A list of the columns names for the titanic dataset.\n",
    "2. Select the 'fare' column from the `titanic` data and show the tail of the data.\n",
    "3. Select just the last column, try using the list of column names you made earlier.\n",
    "4. Select the second, third and fourth columns, try doing it using DataFrame columns property directly."
   ]
  },
  {
   "cell_type": "code",
   "execution_count": 3,
   "metadata": {},
   "outputs": [
    {
     "data": {
      "text/html": [
       "\n",
       "    <script>\n",
       "      function get_new_label(butn, hide) {\n",
       "          var shown = $(butn).parents(\"div.cell.code_cell\").find('div.input').is(':visible');\n",
       "          var title = $(butn).val().substr($(butn).val().indexOf(\" \") + 1)\n",
       "          return ((shown) ? 'Show ' : 'Hide ') + title\n",
       "      }\n",
       "      function code_toggle(butn, hide) {\n",
       "        $(butn).val(get_new_label(butn,hide));\n",
       "        $(hide).slideToggle();\n",
       "      };\n",
       "    </script>\n",
       "    <input type=\"submit\" value='initiated' class='toggle_button'>\n",
       "    <script>\n",
       "        var hide_area = $(\".toggle_button[value='initiated']\").parents('div.cell').prevAll().addBack().slice(-1)\n",
       "        hide_area = $(hide_area).find(\"div.input\").add($(hide_area).filter(\"div.text_cell\"))\n",
       "        $(\".toggle_button[value='initiated']\").prop(\"hide_area\", hide_area)\n",
       "        $(\".toggle_button[value='initiated']\").click(function(){\n",
       "            code_toggle(this, $(this).prop(\"hide_area\"))\n",
       "        });\n",
       "$(\".toggle_button[value='initiated']\").parents(\"div.output_area\").insertBefore($(\".toggle_button[value='initiated']\").parents(\"div.output\").find('div.output_area').first());\n",
       "    var shown = $(\".toggle_button[value='initiated']\").parents(\"div.cell.code_cell\").find('div.input').is(':visible');\n",
       "    var title = ((shown) ? 'Hide ' : 'Show ') + 'answer';\n",
       "     $(\".toggle_button[value='initiated']\").addClass(\"init_show\");\n",
       "            $(hide_area).addClass(\"init_hidden\");  $(\".toggle_button[value='initiated']\").val(title);\n",
       "    </script>"
      ],
      "text/plain": [
       "<IPython.core.display.HTML object>"
      ]
     },
     "metadata": {},
     "output_type": "display_data"
    }
   ],
   "source": [
    "## Question 1\n",
    "\n",
    "## The number of rows and columns\n",
    "#n_rows, n_cols = titanic.shape\n",
    "#print(f\"There are {n_rows} rows and {n_cols} columns in the data\\n\")\n",
    "\n",
    "## The data types of the columns\n",
    "#print(titanic.dtypes, '\\n')\n",
    "\n",
    "## Get a list of column names\n",
    "#colnames = list(titanic.columns)\n",
    "#print(colnames,\"\\n\")\n",
    "\n",
    "## Question 2\n",
    "#fares = titanic['fare']\n",
    "#print(fares.tail(),\"\\n\")\n",
    "\n",
    "## Question 3\n",
    "#print(titanic[colnames[-1]].head(),'\\n')\n",
    "\n",
    "## Question 4\n",
    "#print(titanic[titanic.columns[1:4]].head())\n",
    "\n",
    "toggle_code()"
   ]
  },
  {
   "cell_type": "markdown",
   "metadata": {},
   "source": [
    "## 2.2 Filtering rows from Dataframes\n",
    "\n",
    "Filtering rows from a pandas dataframe works in a very similar way to selecting columns. Simple filtering can be achieved by passing a range to the DataFrame indexer, just like slicing a list.\n",
    "\n",
    "The code below does the same thing as `.head()` and `.tail()` and can be used to show any arbitrary range of rows in a given DataFrame.\n",
    "\n",
    "Note that this is identical to slicing a list.\n",
    "\n",
    "However, we can't get individual rows by indexing as we would with a list, because a column could be named with an integer. This would mean that `dataframe[0]` is ambiguous and could refer to the first row, or a column named 0. Hence it is not allowed, `dataframe[0]` only works if you have a column named '0', which is a default for some operations in pandas.\n",
    "\n",
    "This means that selecting a single row also requires a slice."
   ]
  },
  {
   "cell_type": "code",
   "execution_count": null,
   "metadata": {
    "collapsed": true
   },
   "outputs": [],
   "source": [
    "# first 5 rows\n",
    "titanic[0:5] # or - titanic[:5]"
   ]
  },
  {
   "cell_type": "code",
   "execution_count": null,
   "metadata": {
    "collapsed": true
   },
   "outputs": [],
   "source": [
    "# last 5 rows\n",
    "titanic[-5:]"
   ]
  },
  {
   "cell_type": "code",
   "execution_count": null,
   "metadata": {
    "collapsed": true
   },
   "outputs": [],
   "source": [
    "# arbitrary slice\n",
    "titanic[102:109]"
   ]
  },
  {
   "cell_type": "code",
   "execution_count": null,
   "metadata": {
    "collapsed": true
   },
   "outputs": [],
   "source": [
    "# 1 row\n",
    "titanic[123:124]"
   ]
  },
  {
   "cell_type": "markdown",
   "metadata": {},
   "source": [
    "## 2.3 Conditional Filtering\n",
    "\n",
    "Most filtering is a more involved operation where we first specify the condition(s) that must be met in order for rows to be included in or excluded from the output dataframe.\n",
    "\n",
    "The way that pandas filters rows can be though of as a two-step process.\n",
    "\n",
    "1. Create a 'mask' that specifies inclusion and exclusion for each row in the dataframe.\n",
    "2. Mask the dataframe to return the subset of rows that are included.\n",
    "\n",
    "This sounds a bit abstract, so let's consider what this might look like in practice.\n",
    "\n",
    "Imagine you have the following (very simple) dataframe, called 'catdog':\n",
    "\n",
    "index | Animal | Name\n",
    "---| --- | ---\n",
    "0 | Cat | Catalie Portman\n",
    "1 | Cat | Pico de Gato\n",
    "2 | Dog | Chewbarka\n",
    "3 | Cat | JK Meowling\n"
   ]
  },
  {
   "cell_type": "markdown",
   "metadata": {},
   "source": [
    "You want to filter so you just have 'Cat' rows. Therefore you design the following condition:\n",
    "\n",
    "```python \n",
    "mask = catdog['Animal'] == 'Cat'\n",
    "```\n",
    "\n",
    "There are a lot of = (equals) in the above statement.\n",
    "* The first = indicates assignment, we are assigning the outcome of the expression on the right to the variable on the left of the equals sign.\n",
    "* The second double equals sign, ==, indicates a comparison, in this case it assesses whether each value in the 'Animal' column of catdog is equal to the text 'Cat'. If python finds that the column value and 'Cat' are the same it assigns a True value, and if not a False value.\n",
    "\n",
    "This produces a 'mask' which is a Series of `True` and `False` values against the DataFrame index.\n",
    "\n",
    "index | &#xfeff;\n",
    "---|---\n",
    "0 | True\n",
    "1 | True\n",
    "2 | False\n",
    "3 | True"
   ]
  },
  {
   "cell_type": "markdown",
   "metadata": {},
   "source": [
    "Now, you just have to pass the mask to the original dataframe to complete the filtering process.\n",
    "\n",
    "```python\n",
    "catdog2 = catdog[mask]\n",
    "catdog2\n",
    "```\n",
    "This subsets the catdog dataframe based on the True (include) and False (exclude) values. Producing:\n",
    "\n",
    "index | Animal | Name\n",
    "---| --- | ---\n",
    "0 | Cat | Catalie Portman\n",
    "1 | Cat | Pico de Gato\n",
    "3 | Cat | JK Meowling"
   ]
  },
  {
   "cell_type": "markdown",
   "metadata": {},
   "source": [
    "The row that had a 'Dog' value for 'Animal', has been removed. Note though that the index has remained the same as the original. Sometimes it is important to reset the index after filtering to restore the index to sequential integers starting at 0.\n",
    "\n",
    "If you want to reset the index - you can do so by using this code - \n",
    "\n",
    "```python\n",
    "catdog2 = catdog2.reset_index(drop = True)\n",
    "catdog2\n",
    "```\n",
    "index | Animal | Name\n",
    "---| --- | ---\n",
    "0 | Cat | Catalie Portman\n",
    "1 | Cat | Pico de Gato\n",
    "2 | Cat | JK Meowling"
   ]
  },
  {
   "cell_type": "markdown",
   "metadata": {},
   "source": [
    "See above that the index has been reset to be sequential.\n",
    "\n",
    "## 2.4 Operators to filter data\n",
    "\n",
    "We can filter by using logical comparison statements\n",
    "\n",
    "* == 'is equal to' notice the double == and watch out! A single one would be assigning to a variable!\n",
    "* != 'does not equal' - the opposite of ==\n",
    "* $\\gt$  greater than\n",
    "* $\\lt$ less than\n",
    "* $\\gt$= greater than or equal too\n",
    "* $\\lt$= less than or equal too.\n",
    "\n",
    "In addition, pandas includes some functions to make particular comparisons easier:\n",
    "\n",
    "* .isin(list) which we can use for multiple conditions \n",
    "* .between() which we can use to specify upper and lower bounds\n",
    "\n",
    "Finally, the ~ (tilde) allows us to flip or invert an expression. Basically, if an expression returns [true, true, false], the same expression with a ~ in front of it will return [false, false, true].\n",
    "\n",
    "However, we'll concentrate on the simple operators in the top list for now."
   ]
  },
  {
   "cell_type": "code",
   "execution_count": null,
   "metadata": {
    "collapsed": true
   },
   "outputs": [],
   "source": [
    "# Filter titanic for 3rd class passengers only\n",
    "\n",
    "# First make the mask\n",
    "mask = titanic['pclass'] == 3\n",
    "# Have a quick look at the mask\n",
    "mask.sample(5) # 5 rows in the mask."
   ]
  },
  {
   "cell_type": "code",
   "execution_count": null,
   "metadata": {
    "collapsed": true
   },
   "outputs": [],
   "source": [
    "# Now filter the titanic dataframe with this mask\n",
    "thirdclass = titanic[mask]\n",
    "thirdclass.head()"
   ]
  },
  {
   "cell_type": "code",
   "execution_count": null,
   "metadata": {
    "collapsed": true
   },
   "outputs": [],
   "source": [
    "# Use the same approach for other logical statements.\n",
    "mask = titanic['fare'] > 200\n",
    "titanic[mask].head(7)"
   ]
  },
  {
   "cell_type": "markdown",
   "metadata": {},
   "source": [
    "## Exercise 2\n",
    "\n",
    "1. Show the row for the passenger named: 'Birkeland, Mr. Hans Martin Monsen'\n",
    "2. How many passengers in the dataset are male?\n",
    "3. How many passengers are under 18 years of age?\n",
    "4. What proportion of passenger in the dataset survived?"
   ]
  },
  {
   "cell_type": "code",
   "execution_count": 5,
   "metadata": {},
   "outputs": [
    {
     "data": {
      "text/html": [
       "\n",
       "    <script>\n",
       "      function get_new_label(butn, hide) {\n",
       "          var shown = $(butn).parents(\"div.cell.code_cell\").find('div.input').is(':visible');\n",
       "          var title = $(butn).val().substr($(butn).val().indexOf(\" \") + 1)\n",
       "          return ((shown) ? 'Show ' : 'Hide ') + title\n",
       "      }\n",
       "      function code_toggle(butn, hide) {\n",
       "        $(butn).val(get_new_label(butn,hide));\n",
       "        $(hide).slideToggle();\n",
       "      };\n",
       "    </script>\n",
       "    <input type=\"submit\" value='initiated' class='toggle_button'>\n",
       "    <script>\n",
       "        var hide_area = $(\".toggle_button[value='initiated']\").parents('div.cell').prevAll().addBack().slice(-1)\n",
       "        hide_area = $(hide_area).find(\"div.input\").add($(hide_area).filter(\"div.text_cell\"))\n",
       "        $(\".toggle_button[value='initiated']\").prop(\"hide_area\", hide_area)\n",
       "        $(\".toggle_button[value='initiated']\").click(function(){\n",
       "            code_toggle(this, $(this).prop(\"hide_area\"))\n",
       "        });\n",
       "$(\".toggle_button[value='initiated']\").parents(\"div.output_area\").insertBefore($(\".toggle_button[value='initiated']\").parents(\"div.output\").find('div.output_area').first());\n",
       "    var shown = $(\".toggle_button[value='initiated']\").parents(\"div.cell.code_cell\").find('div.input').is(':visible');\n",
       "    var title = ((shown) ? 'Hide ' : 'Show ') + 'answer';\n",
       "     $(\".toggle_button[value='initiated']\").addClass(\"init_show\");\n",
       "            $(hide_area).addClass(\"init_hidden\");  $(\".toggle_button[value='initiated']\").val(title);\n",
       "    </script>"
      ],
      "text/plain": [
       "<IPython.core.display.HTML object>"
      ]
     },
     "metadata": {},
     "output_type": "display_data"
    }
   ],
   "source": [
    "## Question 1\n",
    "\n",
    "#print(titanic[titanic['name'] == 'Birkeland, Mr. Hans Martin Monsen'],\"\\n\")\n",
    "\n",
    "## Question 2\n",
    "\n",
    "#print(f\"{len(titanic[titanic['sex'] == 'male'])} passengers are male.\\n\")\n",
    "\n",
    "## Question 3\n",
    "\n",
    "#print(f\"{len(titanic[titanic['age'] < 18])} passengers are children.\\n\")\n",
    "\n",
    "## Question 4\n",
    "#total_rows = len(titanic)\n",
    "#survive_rows = len(titanic[titanic['survived'] == 1])\n",
    "#print(\"The proportion of survivors is {:.2f}\".format(survive_rows/total_rows))\n",
    "\n",
    "toggle_code()"
   ]
  },
  {
   "cell_type": "markdown",
   "metadata": {},
   "source": [
    "## 2.5 Using Multiple Conditions to Filter\n",
    "\n",
    "So far, we've only filtered according to individual conditions set on a single column, but there is no reason we can't use multiple conditions to filter by several conditions and/or columns at once. However, we do need to think about how the conditions relate to each other, we have two options to establish these relationships.\n",
    "\n",
    "* **and** relationships are given by the **&** (ampersand) symbol. This implies both/all conditions must be met for a row to evaluate to True.\n",
    "* **or** relationships are given by the **|** (pipe) symbol. This implies that if _any_ of the conditions can be met a given row evaluates to True.\n",
    "\n",
    "You can think of `.isin()` and `.between()` as being special versions of multiple condition filters.\n",
    "\n",
    "* isin() is basically just a lot of linked **or** statements - *value1* **or** *value2* **or** *value3* etc.\n",
    "* between() is an **and** condition - greater than (or equal to) the lower bound **and** less than (or equal to) the upper bound.\n",
    "\n",
    "Let's again take a simple example to illustrate this with the `catdog` dataframe:\n",
    "\n",
    "index | Animal | Name | Age\n",
    "---| --- | --- | ---\n",
    "0 | Cat | Catalie Portman | 3.0\n",
    "1 | Cat | Pico de Gato | 5.0\n",
    "2 | Dog | Chewbarka | 1.0\n",
    "3 | Cat | JK Meowling | 7.0\n",
    "4 | Dog | K-9 | 11.0"
   ]
  },
  {
   "cell_type": "markdown",
   "metadata": {},
   "source": [
    "If you wanted to select all animals that are cats **and** who are over 4 years old, you could do the following:\n",
    "\n",
    "```python\n",
    "mask = (catdog['Animal'] == 'Cat') & (catdog['Age'] > 4.0)\n",
    "\n",
    "catdog[mask]\n",
    "```\n",
    "index | Animal | Name | Age\n",
    "---| --- | --- | ---\n",
    "1 | Cat | Pico de Gato | 5.0\n",
    "3 | Cat | JK Meowling | 7.0"
   ]
  },
  {
   "cell_type": "markdown",
   "metadata": {},
   "source": [
    "Only Cats over 4 years old have been included in the filter.\n",
    "\n",
    "However, if you wanted to select all animals that are either cats **or** are over 4 years old, you could instead do:\n",
    "\n",
    "```python\n",
    "mask = (catdog['Animal'] == 'Cat') | (catdog['Age'] > 4.0)\n",
    "\n",
    "catdog[mask]\n",
    "```\n",
    "index | Animal | Name | Age\n",
    "---| --- | --- | ---\n",
    "0 | Cat | Catalie Portman | 3.0\n",
    "1 | Cat | Pico de Gato | 5.0\n",
    "3 | Cat | JK Meowling | 7.0\n",
    "4 | Dog | K-9 | 11.0\n"
   ]
  },
  {
   "cell_type": "code",
   "execution_count": null,
   "metadata": {
    "collapsed": true
   },
   "outputs": [],
   "source": [
    "# Let's try some multiple condition filters with the titanic data\n",
    "# First class passengers who are women.\n",
    "mask = (titanic['pclass'] == 1) & (titanic['sex']== 'female')\n",
    "titanic[mask].head()"
   ]
  },
  {
   "cell_type": "code",
   "execution_count": null,
   "metadata": {
    "collapsed": true
   },
   "outputs": [],
   "source": [
    "# Women or children\n",
    "mask = (titanic['sex'] == 'female') | (titanic['age'] < 18)\n",
    "titanic[mask].head()"
   ]
  },
  {
   "cell_type": "code",
   "execution_count": null,
   "metadata": {
    "collapsed": true
   },
   "outputs": [],
   "source": [
    "# Try the special functions for multiple selection. First .isin()\n",
    "# Passeners from Cherbourg ('C') or Queenstown ('Q')\n",
    "titanic[titanic['embarked'].isin(['C','Q'])].sample(7)"
   ]
  },
  {
   "cell_type": "code",
   "execution_count": null,
   "metadata": {
    "collapsed": true
   },
   "outputs": [],
   "source": [
    "# Now, .between()\n",
    "# passengers who paid between 100 and 250\n",
    "titanic[titanic['fare'].between(100,250)].head()"
   ]
  },
  {
   "cell_type": "markdown",
   "metadata": {},
   "source": [
    "## Exercise 3\n",
    "\n",
    "1. Select passengers who are in classes 2 and 3, what percentage of passengers is this?\n",
    "2. How many passengers who do not have siblings or spouses ('sibsp'), or parents or children ('parch') on the boat?\n",
    "3. What proportion of passengers who 'embarked' in Cherbourg ('C') or Queenstown ('Q') survived? "
   ]
  },
  {
   "cell_type": "code",
   "execution_count": 6,
   "metadata": {},
   "outputs": [
    {
     "data": {
      "text/html": [
       "\n",
       "    <script>\n",
       "      function get_new_label(butn, hide) {\n",
       "          var shown = $(butn).parents(\"div.cell.code_cell\").find('div.input').is(':visible');\n",
       "          var title = $(butn).val().substr($(butn).val().indexOf(\" \") + 1)\n",
       "          return ((shown) ? 'Show ' : 'Hide ') + title\n",
       "      }\n",
       "      function code_toggle(butn, hide) {\n",
       "        $(butn).val(get_new_label(butn,hide));\n",
       "        $(hide).slideToggle();\n",
       "      };\n",
       "    </script>\n",
       "    <input type=\"submit\" value='initiated' class='toggle_button'>\n",
       "    <script>\n",
       "        var hide_area = $(\".toggle_button[value='initiated']\").parents('div.cell').prevAll().addBack().slice(-1)\n",
       "        hide_area = $(hide_area).find(\"div.input\").add($(hide_area).filter(\"div.text_cell\"))\n",
       "        $(\".toggle_button[value='initiated']\").prop(\"hide_area\", hide_area)\n",
       "        $(\".toggle_button[value='initiated']\").click(function(){\n",
       "            code_toggle(this, $(this).prop(\"hide_area\"))\n",
       "        });\n",
       "$(\".toggle_button[value='initiated']\").parents(\"div.output_area\").insertBefore($(\".toggle_button[value='initiated']\").parents(\"div.output\").find('div.output_area').first());\n",
       "    var shown = $(\".toggle_button[value='initiated']\").parents(\"div.cell.code_cell\").find('div.input').is(':visible');\n",
       "    var title = ((shown) ? 'Hide ' : 'Show ') + 'answer';\n",
       "     $(\".toggle_button[value='initiated']\").addClass(\"init_show\");\n",
       "            $(hide_area).addClass(\"init_hidden\");  $(\".toggle_button[value='initiated']\").val(title);\n",
       "    </script>"
      ],
      "text/plain": [
       "<IPython.core.display.HTML object>"
      ]
     },
     "metadata": {},
     "output_type": "display_data"
    }
   ],
   "source": [
    "## Question 1\n",
    "\n",
    "#n_c2_3 = len(titanic[titanic['pclass'].isin([2,3])])\n",
    "#print(\"{:.1f}% of passengers were in 2nd and 3rd class.\\n\".format(n_c2_3/len(titanic)*100))\n",
    "\n",
    "## Question 2\n",
    "\n",
    "#num_solo = len(titanic[(titanic['sibsp'] == 0)&(titanic['parch'] == 0)])\n",
    "#print(f\"There are {num_solo} solo travelers in the dataset.\\n\")\n",
    "\n",
    "## Question 3\n",
    "\n",
    "#total_em = len(titanic[titanic['embarked'].isin(['C','Q'])])\n",
    "#survive_em = len(titanic[titanic['embarked'].isin(['C','Q']) & (titanic['survived'] == 1)])\n",
    "#print(\"The proportion of Cherbourg and Queenstown passengers who survived was: {survive_em/total_em:.2f}\")\n",
    "\n",
    "toggle_code()"
   ]
  }
 ],
 "metadata": {
  "kernelspec": {
   "display_name": "Python 3",
   "language": "python",
   "name": "python3"
  },
  "language_info": {
   "codemirror_mode": {
    "name": "ipython",
    "version": 3
   },
   "file_extension": ".py",
   "mimetype": "text/x-python",
   "name": "python",
   "nbconvert_exporter": "python",
   "pygments_lexer": "ipython3",
   "version": "3.6.1"
  }
 },
 "nbformat": 4,
 "nbformat_minor": 4
}
