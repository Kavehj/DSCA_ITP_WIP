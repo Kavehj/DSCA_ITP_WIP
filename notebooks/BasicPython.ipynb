{
 "cells": [
  {
   "cell_type": "markdown",
   "metadata": {},
   "source": [
    "<img src=\"https://datasciencecampus.ons.gov.uk/wp-content/uploads/sites/10/2017/03/data-science-campus-logo-new.svg\"\n",
    "             alt=\"ONS Data Science Campus Logo\"\n",
    "             width = \"240\"\n",
    "             style=\"margin: 0px 60px\"\n",
    "             />"
   ]
  },
  {
   "cell_type": "code",
   "execution_count": 20,
   "metadata": {},
   "outputs": [
    {
     "data": {
      "text/html": [
       "<style>.output {\n",
       "    font-family: ariel;\n",
       "    align-items: normal;\n",
       "    text-align: normal;\n",
       "}\n",
       "\n",
       "div.output_svg div { margin : auto; }\n",
       ".div.output_area.MathJax_Display{ text-align: center; }\n",
       "div.text_cell_render { font-family: sans-serif; }\n",
       "\n",
       "details {\n",
       "    margin: 20px 0px;\n",
       "    padding: 0px 10px;\n",
       "    border-radius: 3px;\n",
       "    border-style: solid;\n",
       "    border-color: black;\n",
       "    border-width: 2px;\n",
       "}\n",
       "details div{padding: 20px 30px;}\n",
       "details summary{font-size: 18px;}\n",
       "\n",
       "table {\n",
       "     margin: calc(auto + 10px) !important;\n",
       "     border: solid !important;\n",
       " }\n",
       "\n",
       " th, td {\n",
       "    text-align: left !important;\n",
       " }\n",
       "\n",
       " .further_box {\n",
       "    background-color:rgb(230, 230, 230);\n",
       "    border-style: solid;\n",
       "    margin: 10px 10px 10px 0px;\n",
       "    padding: 10px;\n",
       "    left:calc(auto - 20px);\n",
       " }\n",
       "\n",
       " .question_box {\n",
       "    background-color:rgb(255, 255, 225);\n",
       "    border-style: solid;\n",
       "    margin: 10px 10px 10px 0px;\n",
       "    padding: 10px;\n",
       "    left:calc(auto - 20px);\n",
       " }</style>\n",
       "     <input type=\"submit\" value='Home' id=\"initiated\" class='home_button' onclick='window.location=\"Index.ipynb\"' style='float: right; margin-right: 40px;'>\n",
       "    <script>\n",
       "    $('.home_button').not('#initiated').remove();\n",
       "    $('.home_button').removeAttr('id');\n",
       "    $(\".home_button\").insertBefore($(\"div.cell\").first());\n",
       "    \n",
       "    $('div.input.init_hidden').hide()\n",
       "    $('div.input.init_shown').show()\n",
       "    $('.toggle_button').each(function( index, element ) {\n",
       "       var prefix;\n",
       "       if (this.classList.contains('init_show')) {\n",
       "           prefix = 'Show '\n",
       "       }\n",
       "       else if (this.classList.contains('init_hide')) {\n",
       "           prefix = 'Hide '\n",
       "       };\n",
       "       $(this).val(prefix + $(this).val().substr($(this).val().indexOf(\" \") + 1))\n",
       "    });\n",
       "    IPython.OutputArea.prototype._should_scroll = function(lines) {\n",
       "        return false;\n",
       "    }\n",
       "    </script>\n",
       "    "
      ],
      "text/plain": [
       "<IPython.core.display.HTML object>"
      ]
     },
     "metadata": {},
     "output_type": "display_data"
    },
    {
     "data": {
      "text/html": [
       "\n",
       "    <script>\n",
       "      function get_new_label(butn, hide) {\n",
       "          var shown = $(butn).parents(\"div.cell.code_cell\").find('div.input').is(':visible');\n",
       "          var title = $(butn).val().substr($(butn).val().indexOf(\" \") + 1)\n",
       "          return ((shown) ? 'Show ' : 'Hide ') + title\n",
       "      }\n",
       "      function code_toggle(butn, hide) {\n",
       "        $(butn).val(get_new_label(butn,hide));\n",
       "        $(hide).slideToggle();\n",
       "      };\n",
       "    </script>\n",
       "    <input type=\"submit\" value='initiated' class='toggle_button'>\n",
       "    <script>\n",
       "        var hide_area = $(\".toggle_button[value='initiated']\").parents('div.cell').prevAll().addBack().slice(-1)\n",
       "        hide_area = $(hide_area).find(\"div.input\").add($(hide_area).filter(\"div.text_cell\"))\n",
       "        $(\".toggle_button[value='initiated']\").prop(\"hide_area\", hide_area)\n",
       "        $(\".toggle_button[value='initiated']\").click(function(){\n",
       "            code_toggle(this, $(this).prop(\"hide_area\"))\n",
       "        });\n",
       "$(\".toggle_button[value='initiated']\").parents(\"div.output_area\").insertBefore($(\".toggle_button[value='initiated']\").parents(\"div.output\").find('div.output_area').first());\n",
       "    var shown = $(\".toggle_button[value='initiated']\").parents(\"div.cell.code_cell\").find('div.input').is(':visible');\n",
       "    var title = ((shown) ? 'Hide ' : 'Show ') + 'import functions';\n",
       "     $(\".toggle_button[value='initiated']\").addClass(\"init_show\");\n",
       "            $(hide_area).addClass(\"init_hidden\");  $(\".toggle_button[value='initiated']\").val(title);\n",
       "    </script>"
      ],
      "text/plain": [
       "<IPython.core.display.HTML object>"
      ]
     },
     "metadata": {},
     "output_type": "display_data"
    }
   ],
   "source": [
    "# import the helper functions from the parent directory,\n",
    "# these help with things like graph plotting and notebook layout\n",
    "import sys\n",
    "sys.path.append('..')\n",
    "from helper_functions import *\n",
    "\n",
    "# set things like fonts etc - comes from helper_functions\n",
    "set_notebook_preferences()\n",
    "\n",
    "# add a show/hide code button - also from helper_functions\n",
    "toggle_code(title = \"import functions\")"
   ]
  },
  {
   "cell_type": "markdown",
   "metadata": {},
   "source": [
    "# Basic Python\n",
    "\n",
    "\n",
    "## 2.1  Numeric Values\n",
    "\n",
    "We can use Python as a basic calculator by entering values into the cells. This doesn't store any of the information, other than in the notebook cell, rather you're just passing information to the python interpreter and receiving an answer.\n",
    "\n",
    "Python has  - \n",
    "* ints (integers, whole numbers) e.g 6, 12, 100000, 8960005060030102\n",
    "* floats (floating-point numbers, decimal numbers) e.g 3.4, 7.8, 3.14, 98.99997\n",
    "\n",
    "We can use mathematical expressions\n",
    "\n",
    "* \\+ for addition\n",
    "* \\- for subtraction\n",
    "* \\* for multiplication\n",
    "* / for division\n",
    "* \\*\\* for powers and roots\n",
    "\n",
    "Plus, loads of other useful operators, including:\n",
    "\n",
    "* () Brackets for order of operations  \n",
    "* % modulo - remainder in integer division (e.g. 11%4 = 3, because 11 fully divides by 4 twice, with 3 (of 4) remaining)  \n",
    "* // Floor Division (Rounds down to the nearest integer, e.g. 12/5 = 2.4 but 12//4 = 2)\n",
    "\n",
    "And, some built-in functions:\n",
    "* `abs(`_number_`)` - get the absolute value of a number.\n",
    "* `divmod(`_dividend_, _divisor_`)` - get the quotient and remainder from integer division. Combines floor division and modulo.\n",
    "* `pow(`_number_, _power_`)` - function version of _number_\\*\\*_power_\n",
    "* `round(`_number_, _ndigits_`)` - round a floating-point number to _ndigits_ number of decimal places.\n",
    "\n",
    " Some key Python libratries for number manipulation and mathematical operations are (use import to make available for use):-\n",
    " \n",
    " import fractions  <br>\n",
    " import math    <br>\n",
    " import random  <br>\n",
    " \n",
    " See link https://www.programiz.com/python-programming/numbers  for further information.\n",
    " "
   ]
  },
  {
   "cell_type": "code",
   "execution_count": null,
   "metadata": {},
   "outputs": [],
   "source": [
    "# Addition of ints (produces an int)\n"
   ]
  },
  {
   "cell_type": "code",
   "execution_count": null,
   "metadata": {},
   "outputs": [],
   "source": []
  },
  {
   "cell_type": "code",
   "execution_count": null,
   "metadata": {},
   "outputs": [],
   "source": [
    "abs(34.6)"
   ]
  },
  {
   "cell_type": "code",
   "execution_count": null,
   "metadata": {},
   "outputs": [],
   "source": [
    "# Addition of Floats (produces a float)\n"
   ]
  },
  {
   "cell_type": "code",
   "execution_count": null,
   "metadata": {},
   "outputs": [],
   "source": [
    "x= input(\"Enter a value: \")"
   ]
  },
  {
   "cell_type": "code",
   "execution_count": null,
   "metadata": {},
   "outputs": [],
   "source": [
    "print (pow(3,2)/2**2)"
   ]
  },
  {
   "cell_type": "code",
   "execution_count": null,
   "metadata": {},
   "outputs": [],
   "source": [
    "# Addition of Ints and Floats (produces...?)\n"
   ]
  },
  {
   "cell_type": "code",
   "execution_count": null,
   "metadata": {},
   "outputs": [],
   "source": []
  },
  {
   "cell_type": "markdown",
   "metadata": {},
   "source": [
    "## 2.2 Text Values\n",
    "\n",
    "In python, we refer to text as 'string' data, this is because they are sequences of characters strung together.\n",
    "* Strings are ordered sequences of characters (letters, numbers, punctuation, whitespace and other special symbols).\n",
    "* Strings are immutable.\n",
    "* Use [ ] to access characters in a string\n",
    "* %\tsymbol - performs String formatting\n",
    "* Strings needs to be enclosed in apostrophes (' ') or quotation marks (\" \")\n",
    "    * It doesn't matter which, so long as you're consistent. You can't start with ' and end with \"!\n",
    "    * 'hello world!' is the same as \"hello world!\"\n",
    "\n",
    "Strings can be manipulated with some arithmetic operators:\n",
    "* \\+ concatenates strings (joins them together).\n",
    "* \\* repeats a given string *n* times.\n",
    "\n",
    "Strings are *objects* and so have a number of built-in *methods* for manipulating them.\n",
    "* Use a '.' to access the string object's methods, e.g.\n",
    "    * *string*`.lower()` transforms a string to all lowercase.\n",
    "    * *string*`.upper()` transforms a string to all UPPERCASE.\n",
    "    * *string*`.title()` transforms a string to Title Case.\n",
    "* Some string methods require parameters, e.g.\n",
    "    * *string*`.count('a')` counts the number of 'a'characters in the string, returning an integer.\n",
    "    * *string*`.replace(\" \",\"_\")` replaces any spaces in the string with underscores.\n",
    "    * *string*`.split(\" \")` splits the string wherever a a space is found. Results in a list of elements split on space.\n",
    "    \n",
    "\n",
    "There are loads more string methods, see: https://docs.python.org/3/library/stdtypes.html#string-methods  or\n",
    "https://www.pythonforbeginners.com/basics/string-manipulation-in-python for more info.\n",
    "\n",
    "\n",
    "The format() method takes the passed arguments, formats them, and places them in the string where the placeholders { } are.\n",
    "\n"
   ]
  },
  {
   "cell_type": "code",
   "execution_count": null,
   "metadata": {},
   "outputs": [],
   "source": [
    "# Enter a string here with quotation marks \"\"\n"
   ]
  },
  {
   "cell_type": "code",
   "execution_count": null,
   "metadata": {},
   "outputs": [],
   "source": [
    "# Now with apostrophes ''\n"
   ]
  },
  {
   "cell_type": "code",
   "execution_count": null,
   "metadata": {},
   "outputs": [],
   "source": [
    "# We can use the + symbol here too - but it works differently!\n",
    "\"Data\" + \" Science \" + \"Campus\""
   ]
  },
  {
   "cell_type": "code",
   "execution_count": null,
   "metadata": {},
   "outputs": [],
   "source": [
    "# Multiplication too!\n",
    "\"ONS\" * 5"
   ]
  },
  {
   "cell_type": "code",
   "execution_count": null,
   "metadata": {},
   "outputs": [],
   "source": [
    "#.lower()\n",
    "'ONS'.lower()"
   ]
  },
  {
   "cell_type": "code",
   "execution_count": null,
   "metadata": {},
   "outputs": [],
   "source": [
    "#.upper()\n",
    "'ons'.upper()"
   ]
  },
  {
   "cell_type": "code",
   "execution_count": null,
   "metadata": {},
   "outputs": [],
   "source": [
    "#.count()\n",
    "'ons'.count('o')"
   ]
  },
  {
   "cell_type": "code",
   "execution_count": null,
   "metadata": {},
   "outputs": [],
   "source": [
    "#.replace()\n",
    "'ons'.replace('o','0')"
   ]
  },
  {
   "cell_type": "code",
   "execution_count": null,
   "metadata": {},
   "outputs": [],
   "source": [
    "quantity = 3\n",
    "itemno = 567\n",
    "price = 49.95"
   ]
  },
  {
   "cell_type": "code",
   "execution_count": null,
   "metadata": {},
   "outputs": [],
   "source": [
    "print(\"I want to pay %d dollars for %d pieces of item %s.\" % (price, quantity, str(itemno)))"
   ]
  },
  {
   "cell_type": "code",
   "execution_count": null,
   "metadata": {},
   "outputs": [],
   "source": [
    "myorder = \"I want to pay {2} dollars for {0} pieces of item {1}.\"\n",
    "print(myorder.format(quantity, itemno, price))"
   ]
  },
  {
   "cell_type": "code",
   "execution_count": null,
   "metadata": {},
   "outputs": [],
   "source": [
    "#f-Strings: A New and Improved Way to Format Strings in Python\n",
    "name = \"Eric\"\n",
    "age = 74\n",
    "f\"Hello, {name}. You are {age}.\""
   ]
  },
  {
   "cell_type": "code",
   "execution_count": null,
   "metadata": {},
   "outputs": [],
   "source": [
    "comedian = {'name': 'Eric Idle', 'age': 74}\n",
    "f\"The comedian is {comedian['name']}, aged {comedian['age']}.\""
   ]
  },
  {
   "cell_type": "markdown",
   "metadata": {},
   "source": [
    "## 2.3 Logical Values\n",
    "\n",
    "Logical values or \"Boolean values\" (NB Boolean is capitalised as it refers to logician George Boole).\n",
    "\n",
    "In python these are written as `True` and `False`.\n",
    "\n",
    "They are special python data types - not strings! So they don't need ' ' or \" \" around them.\n",
    "\n",
    "They also have numerics behind them - True is 1 and False is 0."
   ]
  },
  {
   "cell_type": "code",
   "execution_count": null,
   "metadata": {},
   "outputs": [],
   "source": [
    "# You can add them together\n",
    "\n",
    "True + True"
   ]
  },
  {
   "cell_type": "code",
   "execution_count": null,
   "metadata": {},
   "outputs": [],
   "source": [
    "# In fact you can attempt any arithmetic operations with booleans\n",
    "# This owes to their underlying numeric value of either 1 or 0.\n",
    "True * 2.5"
   ]
  },
  {
   "cell_type": "code",
   "execution_count": null,
   "metadata": {},
   "outputs": [],
   "source": [
    "# Try testing True and True or False and False\n"
   ]
  },
  {
   "cell_type": "code",
   "execution_count": null,
   "metadata": {},
   "outputs": [],
   "source": [
    "# Try testing False and True\n",
    "True and False"
   ]
  },
  {
   "cell_type": "markdown",
   "metadata": {},
   "source": [
    "# Exercise 1\n",
    "\n",
    "\n",
    "1. Take 2 integers and multiply. Print the result.\n",
    "\n",
    "2. Divide 9 raised to the power 2 divided by 2 raised to the power 2. Use the '/' for divide and round to 1 decimal place.\n",
    "\n",
    "3. Find remainder of division, 91 divided by 2.\n",
    "\n",
    "4. Using the string 'Department of International Trade\".\n",
    "\n",
    "        Lowercase the whole string\n",
    "        Replace 'department' with 'dept'\n",
    "        Count the number of times the letter 'd' is used in the string\n",
    "\n",
    "5. Generate 2 random numbers within certain intervals using the randrange method from the random library, add them and print output.\n",
    "\n",
    "For example <br>\n",
    "\n",
    "```python\n",
    "import random\n",
    "print(random.randrange(3, 9))\n",
    "```\n"
   ]
  },
  {
   "cell_type": "code",
   "execution_count": 17,
   "metadata": {
    "scrolled": false
   },
   "outputs": [
    {
     "data": {
      "text/html": [
       "\n",
       "    <script>\n",
       "      function get_new_label(butn, hide) {\n",
       "          var shown = $(butn).parents(\"div.cell.code_cell\").find('div.input').is(':visible');\n",
       "          var title = $(butn).val().substr($(butn).val().indexOf(\" \") + 1)\n",
       "          return ((shown) ? 'Show ' : 'Hide ') + title\n",
       "      }\n",
       "      function code_toggle(butn, hide) {\n",
       "        $(butn).val(get_new_label(butn,hide));\n",
       "        $(hide).slideToggle();\n",
       "      };\n",
       "    </script>\n",
       "    <input type=\"submit\" value='initiated' class='toggle_button'>\n",
       "    <script>\n",
       "        var hide_area = $(\".toggle_button[value='initiated']\").parents('div.cell').prevAll().addBack().slice(-1)\n",
       "        hide_area = $(hide_area).find(\"div.input\").add($(hide_area).filter(\"div.text_cell\"))\n",
       "        $(\".toggle_button[value='initiated']\").prop(\"hide_area\", hide_area)\n",
       "        $(\".toggle_button[value='initiated']\").click(function(){\n",
       "            code_toggle(this, $(this).prop(\"hide_area\"))\n",
       "        });\n",
       "$(\".toggle_button[value='initiated']\").parents(\"div.output_area\").insertBefore($(\".toggle_button[value='initiated']\").parents(\"div.output\").find('div.output_area').first());\n",
       "    var shown = $(\".toggle_button[value='initiated']\").parents(\"div.cell.code_cell\").find('div.input').is(':visible');\n",
       "    var title = ((shown) ? 'Hide ' : 'Show ') + 'answer';\n",
       "     $(\".toggle_button[value='initiated']\").addClass(\"init_show\");\n",
       "            $(hide_area).addClass(\"init_hidden\");  $(\".toggle_button[value='initiated']\").val(title);\n",
       "    </script>"
      ],
      "text/plain": [
       "<IPython.core.display.HTML object>"
      ]
     },
     "metadata": {},
     "output_type": "display_data"
    }
   ],
   "source": [
    "# print('1.',7*2)\n",
    "\n",
    "# print('2.',pow(9,2))\n",
    "\n",
    "# print('3.',91%2)\n",
    "\n",
    "# dept =  'Department for International Development'\n",
    "# print('4.a. ',dept.lower())\n",
    "# print('4.b. ',dept.lower().replace('department', 'dept'))\n",
    "# print('4.c. number of ds are: ',dept.lower().replace('department', 'dept').count('d'))\n",
    "\n",
    "\n",
    "\n",
    "# import random\n",
    "# num1=random.randrange(3, 9)\n",
    "# num2=random.randrange(32, 95)\n",
    "\n",
    "# print (\"Total is:\", num1 + num2)\n",
    "\n",
    "toggle_code()"
   ]
  },
  {
   "cell_type": "markdown",
   "metadata": {},
   "source": [
    "## 2.4 Casting (Type Conversion) in python\n",
    "\n",
    "Python doesn't require you to set the data type when you create it, instead it figures out what the best data type is for the object you are creating - int, float, string, Boolean etc.\n",
    "\n",
    "Sometimes you want to ensure that a particular object is actually a certain type, rather than leaving it up to python. This is does via casting. Python has a range of in-built functions that enable you to cast data from one type to another.\n",
    "\n",
    "Firstly, the `type()` function will tell you what a given object is.\n",
    "\n",
    "Then, if it is allowed, you can convert that object to a specific data type using:\n",
    "* `int()`\n",
    "* `float()`\n",
    "* `str()`\n",
    "* `bool()`\n",
    "\n",
    "Obviously, you can't turn strings into numbers, unless the string in question is a numeric value stored as a string (e.g. '3' instead of 3).\n",
    "\n",
    "Some transformations make sense, ints into floats and vice versa.\n",
    "\n",
    "However, try turning numbers and text into Booleans, or make `True` or `False` a string, what do you think will happen? "
   ]
  },
  {
   "cell_type": "code",
   "execution_count": null,
   "metadata": {},
   "outputs": [],
   "source": [
    "# Learn the type of different objects\n",
    "type(True)"
   ]
  },
  {
   "cell_type": "code",
   "execution_count": null,
   "metadata": {},
   "outputs": [],
   "source": [
    "# Int from whole number float\n",
    "int(4.0)"
   ]
  },
  {
   "cell_type": "code",
   "execution_count": null,
   "metadata": {},
   "outputs": [],
   "source": [
    "# Int from decimal number float\n",
    "int(7.8)"
   ]
  },
  {
   "cell_type": "code",
   "execution_count": null,
   "metadata": {},
   "outputs": [],
   "source": [
    "# Float from int\n",
    "float(7)"
   ]
  },
  {
   "cell_type": "code",
   "execution_count": null,
   "metadata": {},
   "outputs": [],
   "source": [
    "# int from string\n",
    "int('5')"
   ]
  },
  {
   "cell_type": "code",
   "execution_count": null,
   "metadata": {},
   "outputs": [],
   "source": [
    "# float from string\n",
    "float(\"5.6\")"
   ]
  },
  {
   "cell_type": "code",
   "execution_count": null,
   "metadata": {},
   "outputs": [],
   "source": [
    "# Try to find some transformation that python doesn't like.\n"
   ]
  },
  {
   "cell_type": "markdown",
   "metadata": {},
   "source": [
    "## 2.5 Variable Assignment\n",
    "\n",
    "* Variables store data values under a specific name:\n",
    "    * `name = 'Laura'` - here the variable `name` is storing the string `'Laura'`.\n",
    "    * `age = 21` - here the variable `age` is storing the integer `21`.\n",
    "    * `height = 1.80` - here the variable height is storing the float `1.80`.\n",
    "* Variables have to be assigned. Assignment is done with the `=` (equals) sign.\n",
    "* Once created, using a variable means getting the value of whatever it is storing.\n",
    "    * Inputting `height` into python will return `1.80` until the variable is either changed or deleted.\n",
    "* We can change the value of variables at any point by assigning it a new value.\n",
    "    * `height = 1.75` - reassigns the height variable to the value `1.75`\n",
    "    * `height = \"egg\"` - reassigns the height variable to the value `\"egg\"`\n",
    "    * `del height` - deletes the height variable, it is no longer in python's memory.\n",
    "* Variable names are case sensitive\n",
    "* Variable names can't start with a number (must start with an _ or a letter)\n",
    "* Can't use reserved words - like ` True, Class, Yield` which already mean something to python.\n",
    "* Should be descriptive (ideally).\n",
    "* Can be any length - but should be sensible!\n",
    "* Can look like this\n",
    "    * norwegianblue (lowercase)\n",
    "    * NORWEGIANBLUE (UPPERCASE)\n",
    "    * norwegianBlue (camelCase)\n",
    "    * NorwegianBlue (UpperCamelCase)\n",
    "    * norwegian_blue (snake_case, can also be Norwegian_Blue"
   ]
  },
  {
   "cell_type": "code",
   "execution_count": null,
   "metadata": {},
   "outputs": [],
   "source": [
    "# Let's create some variables.\n"
   ]
  },
  {
   "cell_type": "code",
   "execution_count": null,
   "metadata": {},
   "outputs": [],
   "source": [
    "name = ''\n",
    "surname = \"\"\n",
    "print(name + \" \" + surname)"
   ]
  },
  {
   "cell_type": "code",
   "execution_count": null,
   "metadata": {},
   "outputs": [],
   "source": [
    "name = input(\"Please enter your name\")\n",
    "print (\"Welcome to the Introduction to Python course \", name)"
   ]
  },
  {
   "cell_type": "code",
   "execution_count": null,
   "metadata": {},
   "outputs": [],
   "source": [
    "#view some attributes of the string\n",
    "print (type(name))\n",
    "print (len(name))"
   ]
  },
  {
   "cell_type": "code",
   "execution_count": null,
   "metadata": {},
   "outputs": [],
   "source": [
    "#this does not work as string are immutable\n",
    "word = 'analyse'\n",
    "word[5]= 'z'"
   ]
  },
  {
   "cell_type": "code",
   "execution_count": null,
   "metadata": {},
   "outputs": [],
   "source": [
    "#do this instead\n",
    "word.replace('s','z')\n",
    "word = 'analyze'"
   ]
  },
  {
   "cell_type": "code",
   "execution_count": null,
   "metadata": {},
   "outputs": [],
   "source": [
    "#string manipulation\n",
    "print(word)\n",
    "print(word[0])\n",
    "print (word[0:3])\n",
    "print(word[:3])\n",
    "print(word[:-2])\n",
    "print (word[:])\n",
    "print(word[-2:])"
   ]
  },
  {
   "cell_type": "markdown",
   "metadata": {},
   "source": [
    "# Exercise 2\n",
    "\n",
    "\n",
    "1.\tPick an English word of your choice, put it into a suitably named string and print out last 3 characters. \n",
    "\n",
    "2.\tWhat is the output of the following code ? \n",
    "\n",
    "  ```python\n",
    "            word2 = \"pynative\"\n",
    "            print (word2[1:3])\n",
    "  ```\n",
    "\n",
    "3.\tCheck that the letter 'y' is in word 'pynative'\n",
    "        \n",
    "4.\tFind the length of word2.\n",
    "\n",
    "5.\tExtract the word 'office from 'foreign office' and concatenate with 'national statistics'. <br>\n"
   ]
  },
  {
   "cell_type": "code",
   "execution_count": 19,
   "metadata": {},
   "outputs": [
    {
     "data": {
      "text/html": [
       "\n",
       "    <script>\n",
       "      function get_new_label(butn, hide) {\n",
       "          var shown = $(butn).parents(\"div.cell.code_cell\").find('div.input').is(':visible');\n",
       "          var title = $(butn).val().substr($(butn).val().indexOf(\" \") + 1)\n",
       "          return ((shown) ? 'Show ' : 'Hide ') + title\n",
       "      }\n",
       "      function code_toggle(butn, hide) {\n",
       "        $(butn).val(get_new_label(butn,hide));\n",
       "        $(hide).slideToggle();\n",
       "      };\n",
       "    </script>\n",
       "    <input type=\"submit\" value='initiated' class='toggle_button'>\n",
       "    <script>\n",
       "        var hide_area = $(\".toggle_button[value='initiated']\").parents('div.cell').prevAll().addBack().slice(-1)\n",
       "        hide_area = $(hide_area).find(\"div.input\").add($(hide_area).filter(\"div.text_cell\"))\n",
       "        $(\".toggle_button[value='initiated']\").prop(\"hide_area\", hide_area)\n",
       "        $(\".toggle_button[value='initiated']\").click(function(){\n",
       "            code_toggle(this, $(this).prop(\"hide_area\"))\n",
       "        });\n",
       "$(\".toggle_button[value='initiated']\").parents(\"div.output_area\").insertBefore($(\".toggle_button[value='initiated']\").parents(\"div.output\").find('div.output_area').first());\n",
       "    var shown = $(\".toggle_button[value='initiated']\").parents(\"div.cell.code_cell\").find('div.input').is(':visible');\n",
       "    var title = ((shown) ? 'Hide ' : 'Show ') + 'answer';\n",
       "     $(\".toggle_button[value='initiated']\").addClass(\"init_show\");\n",
       "            $(hide_area).addClass(\"init_hidden\");  $(\".toggle_button[value='initiated']\").val(title);\n",
       "    </script>"
      ],
      "text/plain": [
       "<IPython.core.display.HTML object>"
      ]
     },
     "metadata": {},
     "output_type": "display_data"
    }
   ],
   "source": [
    "# 1.\n",
    "# word1='python'\n",
    "# word1[-3:]\n",
    "\n",
    "# 2.\n",
    "# word2 = \"pynative\"\n",
    "\n",
    "# 3. \n",
    "# 'y' in 'pynative'\n",
    "\n",
    "# 4. \n",
    "# print(len(word2))\n",
    "\n",
    "# 5.\n",
    "# dept1 = 'foreign office'\n",
    "# dept2 = 'national statistics'\n",
    "# dept1 =dept1.split(\" \")\n",
    "# dept2 = dept2 + \" \" + dept1[1]\n",
    "# print (dept2)\n",
    "\n",
    "toggle_code()"
   ]
  }
 ],
 "metadata": {
  "kernelspec": {
   "display_name": "Python 3",
   "language": "python",
   "name": "python3"
  },
  "language_info": {
   "codemirror_mode": {
    "name": "ipython",
    "version": 3
   },
   "file_extension": ".py",
   "mimetype": "text/x-python",
   "name": "python",
   "nbconvert_exporter": "python",
   "pygments_lexer": "ipython3",
   "version": "3.7.6"
  }
 },
 "nbformat": 4,
 "nbformat_minor": 4
}
