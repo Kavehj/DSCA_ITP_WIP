{
 "cells": [
  {
   "cell_type": "markdown",
   "metadata": {},
   "source": [
    "<img src=\"https://datasciencecampus.ons.gov.uk/wp-content/uploads/sites/10/2017/03/data-science-campus-logo-new.svg\"\n",
    "             alt=\"ONS Data Science Campus Logo\"\n",
    "             width = \"240\"\n",
    "             style=\"margin: 0px 60px\"\n",
    "             />"
   ]
  },
  {
   "cell_type": "code",
   "execution_count": 5,
   "metadata": {},
   "outputs": [
    {
     "data": {
      "text/html": [
       "<style>.output {\n",
       "    font-family: ariel;\n",
       "    align-items: normal;\n",
       "    text-align: normal;\n",
       "}\n",
       "\n",
       "div.output_svg div { margin : auto; }\n",
       ".div.output_area.MathJax_Display{ text-align: center; }\n",
       "div.text_cell_render { font-family: sans-serif; }\n",
       "\n",
       "details {\n",
       "    margin: 20px 0px;\n",
       "    padding: 0px 10px;\n",
       "    border-radius: 3px;\n",
       "    border-style: solid;\n",
       "    border-color: black;\n",
       "    border-width: 2px;\n",
       "}\n",
       "details div{padding: 20px 30px;}\n",
       "details summary{font-size: 18px;}\n",
       "\n",
       "table {\n",
       "     margin: calc(auto + 10px) !important;\n",
       "     border: solid !important;\n",
       " }\n",
       "\n",
       " th, td {\n",
       "    text-align: left !important;\n",
       " }\n",
       "\n",
       " .further_box {\n",
       "    background-color:rgb(230, 230, 230);\n",
       "    border-style: solid;\n",
       "    margin: 10px 10px 10px 0px;\n",
       "    padding: 10px;\n",
       "    left:calc(auto - 20px);\n",
       " }\n",
       "\n",
       " .question_box {\n",
       "    background-color:rgb(255, 255, 225);\n",
       "    border-style: solid;\n",
       "    margin: 10px 10px 10px 0px;\n",
       "    padding: 10px;\n",
       "    left:calc(auto - 20px);\n",
       " }</style>\n",
       "     <input type=\"submit\" value='Home' id=\"initiated\" class='home_button' onclick='window.location=\"Index.ipynb\"' style='float: right; margin-right: 40px;'>\n",
       "    <script>\n",
       "    $('.home_button').not('#initiated').remove();\n",
       "    $('.home_button').removeAttr('id');\n",
       "    $(\".home_button\").insertBefore($(\"div.cell\").first());\n",
       "    \n",
       "    $('div.input.init_hidden').hide()\n",
       "    $('div.input.init_shown').show()\n",
       "    $('.toggle_button').each(function( index, element ) {\n",
       "       var prefix;\n",
       "       if (this.classList.contains('init_show')) {\n",
       "           prefix = 'Show '\n",
       "       }\n",
       "       else if (this.classList.contains('init_hide')) {\n",
       "           prefix = 'Hide '\n",
       "       };\n",
       "       $(this).val(prefix + $(this).val().substr($(this).val().indexOf(\" \") + 1))\n",
       "    });\n",
       "    IPython.OutputArea.prototype._should_scroll = function(lines) {\n",
       "        return false;\n",
       "    }\n",
       "    </script>\n",
       "    "
      ],
      "text/plain": [
       "<IPython.core.display.HTML object>"
      ]
     },
     "metadata": {},
     "output_type": "display_data"
    },
    {
     "data": {
      "text/html": [
       "\n",
       "    <script>\n",
       "      function get_new_label(butn, hide) {\n",
       "          var shown = $(butn).parents(\"div.cell.code_cell\").find('div.input').is(':visible');\n",
       "          var title = $(butn).val().substr($(butn).val().indexOf(\" \") + 1)\n",
       "          return ((shown) ? 'Show ' : 'Hide ') + title\n",
       "      }\n",
       "      function code_toggle(butn, hide) {\n",
       "        $(butn).val(get_new_label(butn,hide));\n",
       "        $(hide).slideToggle();\n",
       "      };\n",
       "    </script>\n",
       "    <input type=\"submit\" value='initiated' class='toggle_button'>\n",
       "    <script>\n",
       "        var hide_area = $(\".toggle_button[value='initiated']\").parents('div.cell').prevAll().addBack().slice(-1)\n",
       "        hide_area = $(hide_area).find(\"div.input\").add($(hide_area).filter(\"div.text_cell\"))\n",
       "        $(\".toggle_button[value='initiated']\").prop(\"hide_area\", hide_area)\n",
       "        $(\".toggle_button[value='initiated']\").click(function(){\n",
       "            code_toggle(this, $(this).prop(\"hide_area\"))\n",
       "        });\n",
       "$(\".toggle_button[value='initiated']\").parents(\"div.output_area\").insertBefore($(\".toggle_button[value='initiated']\").parents(\"div.output\").find('div.output_area').first());\n",
       "    var shown = $(\".toggle_button[value='initiated']\").parents(\"div.cell.code_cell\").find('div.input').is(':visible');\n",
       "    var title = ((shown) ? 'Hide ' : 'Show ') + 'import functions';\n",
       "     $(\".toggle_button[value='initiated']\").addClass(\"init_show\");\n",
       "            $(hide_area).addClass(\"init_hidden\");  $(\".toggle_button[value='initiated']\").val(title);\n",
       "    </script>"
      ],
      "text/plain": [
       "<IPython.core.display.HTML object>"
      ]
     },
     "metadata": {},
     "output_type": "display_data"
    }
   ],
   "source": [
    "# import the helper functions from the parent directory,\n",
    "# these help with things like graph plotting and notebook layout\n",
    "import sys\n",
    "sys.path.append('..')\n",
    "from helper_functions import *\n",
    "\n",
    "# set things like fonts etc - comes from helper_functions\n",
    "set_notebook_preferences()\n",
    "\n",
    "# add a show/hide code button - also from helper_functions\n",
    "toggle_code(title = \"import functions\")"
   ]
  },
  {
   "cell_type": "markdown",
   "metadata": {},
   "source": [
    "# Python Objects\n",
    "\n",
    "Object is the general name for data types, data structures, functions and so on that python stores in memory and references with an identifier. Technically, an object is a specific instance of a 'class', which is an abstract template for a data type, data structure etc. A class is a pattern for creating new objects that can be reused and extended.\n",
    "\n",
    "```python\n",
    "days_list = [\"Mon\", \"Tues\", \"Weds\", \"Thurs\", \"Fri\", \"Sat\", \"Sun\"]\n",
    "```\n",
    "`days_list` is the identifier for a python 'list' data structure (object) that in this case stores some text values.\n",
    "\n",
    "All objects have properties and methods, which relate to data that the object stores and behaviours (procedures) that can be performed on the object to get a specific output.\n",
    "\n",
    "Accessing the properties and methods of an object usually means using the '.' (dot notation). This means we type the name of the object we are interested in, put a dot, then type the name of the property or method we want to call.\n",
    "\n",
    "For instance, calling the `clear()` method of a list object named `fruit` would be achieved like this:\n",
    "```python\n",
    "fruit.clear()\n",
    "```\n",
    "This would have the effect of removing any items stored by the list `fruit`, emptying the list.\n",
    "\n",
    "Similarly, if we wanted to use the count method to count the number of times a particular item occured in a list, we might do the following:\n",
    "```python\n",
    "fruit = ['apple','apple','banana','orange'] # create a list called fruit.\n",
    "fruit.count('apple') # count the number of times that the string 'apple' occurs in the fruit list\n",
    "```\n",
    "In the above, we would expect the `.count()` method, with the parameter 'apple' to return the value 2, because 'apple' appears twice in the list `fruit`.\n",
    "\n",
    "Additionally, there are some special in-built python functions that interact with objects and perform special behaviours, like `print()` and `len()`, or the numeric functions (e.g. `pow()`) you've seen already.\n",
    "\n",
    "For example, calling the python `print()` function enables us to print a representation of an object based on how a given object behaves with respect to that function.\n",
    "\n",
    "Python sorted function declaration is as follows: <br>\n",
    "\n",
    "sorted(iterable[, key = None][, reverse = False])\n",
    "\n",
    "```python\n",
    "sample_str = ['Modi', 'Trump', 'Putin', 'Jinping']\n",
    "print(\"Default sort: \", sorted(sample_str))\n",
    "print(\"Reversed sort: \", sorted(sample_str, reverse = True))\n",
    "```\n",
    "\n",
    "## 3.1 Lists\n",
    "\n",
    "* The python list object is (possibly) the most versatile of the built in data structures.\n",
    "\n",
    "* It can hold any sequence of objects, including mixes of objects like strings, integers and Boolean variables together.\n",
    "\n",
    "* Lists can also hold other lists and dictionaries.\n",
    "\n",
    "* They can also hold custom data structures, and can be used to create custom data structures.\n",
    "\n",
    "* Lists are generally created, or 'instantiated', using square brackets `[]`.\n",
    "\n",
    "* A new list is considered to be an 'instance' of the list object.\n",
    "\n",
    "* Each item in the list is separated by a comma.\n",
    "\n",
    "* Lists can be amended (they are 'mutable' - they can be changed).\n",
    "\n",
    "* Technically, a string is a list of characters, this becomes clear if we explictly make it a list.\n",
    "\n",
    "* The *in* construct on its own is an easy way to test if an element appears in a list (or other collection) -- value in  collection -- tests if the value is in the collection, returning True/False."
   ]
  },
  {
   "cell_type": "code",
   "execution_count": null,
   "metadata": {},
   "outputs": [],
   "source": [
    "# Create a list.\n",
    "days_list = [\"Mon\", \"Tues\", \"Weds\", \"Thurs\", \"Fri\", \"Sat\", \"Sun\"]\n",
    "print(type(days_list))\n",
    "print(days_list)\n",
    "print (len(days_list))"
   ]
  },
  {
   "cell_type": "code",
   "execution_count": null,
   "metadata": {},
   "outputs": [],
   "source": [
    "# A list of mixed objects\n",
    "mixed = [2,2.3,'string',True]"
   ]
  },
  {
   "cell_type": "code",
   "execution_count": null,
   "metadata": {},
   "outputs": [],
   "source": [
    "# We can use the inbuilt function list() to convert a string to a list.\n",
    "mp = list(\"Monty Python\")\n",
    "mp"
   ]
  },
  {
   "cell_type": "markdown",
   "metadata": {},
   "source": [
    "There are a number of methods we can call on list objects, some important methods include:  \n",
    " * _list_`.append(object)` - adds an object to the end of the list.\n",
    " * _list_`.extend([objects])` - similar to append but contents of the list object is added not the list itself.\n",
    " * _list_`.insert(index, object)` - allows you to insert an object at a particular position in the list.\n",
    " * _list_`.pop(index)` - removes and returns the object at a particular position.\n",
    " <br>\n",
    " \n",
    " Some further methods that can be applied to Python lists are shown here:\n",
    "  <br>\n",
    "  \n",
    "  \n",
    " https://www.w3schools.com/python/python_arrays.asp\n",
    " <br>\n",
    " <br>\n",
    " \n",
    " \n",
    " \n",
    " "
   ]
  },
  {
   "cell_type": "code",
   "execution_count": null,
   "metadata": {},
   "outputs": [],
   "source": [
    "list_1 = [10, 20, 30, 40, 50, 60]\n",
    "list_1.append(70) # append integer object 70 to end of list\n",
    "list_1"
   ]
  },
  {
   "cell_type": "code",
   "execution_count": null,
   "metadata": {},
   "outputs": [],
   "source": [
    "list_2 = [10, 20, 30, 40, 50, 60]\n",
    "list_2.extend([70, 80, 90, 100]) # extend list with items in second list.\n",
    "list_2"
   ]
  },
  {
   "cell_type": "code",
   "execution_count": null,
   "metadata": {},
   "outputs": [],
   "source": [
    "# What will happen here?\n",
    "list_2.append(list_1)\n",
    "list_2"
   ]
  },
  {
   "cell_type": "code",
   "execution_count": null,
   "metadata": {},
   "outputs": [],
   "source": [
    "list_1 = [10, 20, 30, 40, 50, 60]\n",
    "list_1.insert(0, 5) # insert a 5 at index zero (the 1st position in python).\n",
    "list_1"
   ]
  },
  {
   "cell_type": "code",
   "execution_count": null,
   "metadata": {},
   "outputs": [],
   "source": [
    "list_1 = [10, 20, 30, 40, 50, 60]\n",
    "value = list_1.pop(3) # remove the value at index 3 (the 4th index position) and store as a variable called value.\n",
    "print(value)\n",
    "print(list_1)"
   ]
  },
  {
   "cell_type": "code",
   "execution_count": null,
   "metadata": {},
   "outputs": [],
   "source": [
    "# Note that arithmetic approaches can have similar results.\n",
    "list_1 += [80]\n",
    "list_1"
   ]
  },
  {
   "cell_type": "markdown",
   "metadata": {},
   "source": [
    "In the code above there is a common programming shortcut being employed: `+=`  \n",
    "The following two assignments are identical:\n",
    "```python\n",
    "list_1 = list_1 + [80]\n",
    "list_1 += [80]\n",
    "```\n",
    "Other possible assignments operators include: `-=`, `*=`, `/=`, `//=`, `**=` and a few others.\n",
    "\n",
    "However, only `+` and `*` are meaningful for list operations, so other assignment operators give errors. However, these assignment operators will work for updating a numeric value."
   ]
  },
  {
   "cell_type": "code",
   "execution_count": null,
   "metadata": {},
   "outputs": [],
   "source": [
    "# Starting values for cell below.\n",
    "lump_sum = 100\n",
    "interest = 1.025 # 2.5%"
   ]
  },
  {
   "cell_type": "code",
   "execution_count": null,
   "metadata": {},
   "outputs": [],
   "source": [
    "# Imagine this is a compund interest calculation.\n",
    "# Run this cell a few times and see the output value change.\n",
    "lump_sum *= interest\n",
    "lump_sum"
   ]
  },
  {
   "cell_type": "code",
   "execution_count": null,
   "metadata": {},
   "outputs": [],
   "source": [
    "#joinung 2 lists together\n",
    "numbersList = [1, 2, 3]\n",
    "numbers_tuple = ('ONE', 'TWO', 'THREE', 'FOUR')\n",
    "print(list(zip(numbersList, numbers_tuple)))"
   ]
  },
  {
   "cell_type": "code",
   "execution_count": null,
   "metadata": {},
   "outputs": [],
   "source": [
    "sample_list = (\"h\", \"d\", \"c\", \"a\", \"b\", \"e\", \"f\", \"g\")\n",
    "out_list = sorted(sample_list)\n",
    "print(out_list)"
   ]
  },
  {
   "cell_type": "markdown",
   "metadata": {},
   "source": [
    "## 3.2 Tuples\n",
    "\n",
    "* Tuples are similar to lists, they can also hold any mixed sequence of objects.\n",
    "\n",
    "* However, tuples cannot be edited once created (immutable).\n",
    "\n",
    "* Tuples are created using parentheses () with items separated by commas.\n",
    "\n",
    "* The tuple() function can convert lists or strings to tuples.\n"
   ]
  },
  {
   "cell_type": "code",
   "execution_count": null,
   "metadata": {},
   "outputs": [],
   "source": [
    "tuple1 = (\"Monday\", \"Tuesday\", \"Wednesday\")\n",
    "type(tuple1)"
   ]
  },
  {
   "cell_type": "code",
   "execution_count": null,
   "metadata": {},
   "outputs": [],
   "source": [
    "tuple1"
   ]
  },
  {
   "cell_type": "code",
   "execution_count": null,
   "metadata": {},
   "outputs": [],
   "source": [
    "# You can convert to a list using list\n",
    "list_frm_tuple = list(tuple1)\n",
    "type(list_frm_tuple)"
   ]
  },
  {
   "cell_type": "markdown",
   "metadata": {},
   "source": [
    "## 3.3 Accessing Values in Lists and Tuples\n",
    "\n",
    "In addition to creating list objects, python also uses square brackets as an indexing operator.\n",
    "\n",
    "Therefore, to access a value in a list or tuple use the square brackets and the index (position) of the value you want to obtain e.g.\n",
    "```python\n",
    "vegetables= ['Carrot','Onion','Potato', 'Cauliflower']\n",
    "vegetables[1]\n",
    "```\n",
    "In the above list, the value obtained is `'Onion'` this is because python counts from zero:\n",
    "* `vegetable[0]` is 'Carrot'\n",
    "* `vegetable[1]` is 'Onion'\n",
    "* `vegetable[2]` is 'Potato'\n",
    "* `vegetable[3]` is 'Cauliflower'\n",
    "\n",
    "The same would apply if we had made a tuple instead of a list.\n",
    "\n",
    "If you are dealing with lists, you can also update the values in lists using indexing. This is because lists are mutable. e.g.\n",
    "```python\n",
    "vegetables= ['Carrot','Onion','Potato','Cauliflower']\n",
    "vegetables[1] = 'Courgette'\n",
    "```\n",
    "Will give: `['Carrot',Courgette','Potato','Cauliflower']`\n",
    "\n",
    "As `'Onion'` has been updated with `'Courgette`'\n",
    "\n",
    "Ways to index:\n",
    "\n",
    "Python Expression | Result | Explanation\n",
    "------------------|--------|------------\n",
    "vegetables[1]     |'Courgette'| Indexing from start of list at 0\n",
    "vegetables[-2] | 'Potato' | Backwards indexing from end of list\n",
    "vegetables[2:] | ['Potato','Cauliflower'] | Slicing a section from a given start index to the end of the list.\n",
    "vegetables[:2] | ['Carrot','Courgette'] | Slicing a section from the start of the list until a given end index.\n",
    "vegetables[1:3] | ['Courgette','Potato'] | Slicing a section from a given start index to a given end index.\n",
    "\n",
    "Try some of these approaches below."
   ]
  },
  {
   "cell_type": "code",
   "execution_count": null,
   "metadata": {},
   "outputs": [],
   "source": [
    "# Try indexing list_1 and list_2\n",
    "list_1[0]"
   ]
  },
  {
   "cell_type": "code",
   "execution_count": null,
   "metadata": {},
   "outputs": [],
   "source": [
    "# slicing\n",
    "list_1[3:5]"
   ]
  },
  {
   "cell_type": "code",
   "execution_count": null,
   "metadata": {},
   "outputs": [],
   "source": [
    "# Backwards indexing\n",
    "tuple1[-1]"
   ]
  },
  {
   "attachments": {
    "image.png": {
     "image/png": "[encoded data removed]"
    }
   },
   "cell_type": "markdown",
   "metadata": {},
   "source": [
    "# Exercise 3\n",
    "\n",
    "1.  Here is a python list that outlines a bus journey with stops:\n",
    "    \n",
    "    ```python\n",
    "        route1 = [['Glasgow', '09:00'],['Falkirk', '10:00'],['Edinburgh', '10:30']]\n",
    "    ```\n",
    "\n",
    "     \n",
    "     Print out stop 3 (place and time of arrival).\n",
    "\n",
    "2.   Using the Len function, return how many stops are in route 1.\n",
    "\n",
    "3.  How long does the journey (route 1) take. Subtract the time given in last stop with time in first stop.<br>\n",
    "\n",
    "    To subtract datetime import library \n",
    "    <br>\n",
    "    \n",
    "    ```python\n",
    "    from datetime import timedelta\n",
    "     ```\n",
    "   \n",
    "    Ensure that time is passed to the **timedelta** function as shown below: <br>\n",
    "    <br>\n",
    "    \n",
    "    ```python\n",
    "    t1 = timedelta(hours = 11, minutes = 34)\n",
    "     ```\n",
    "    <br>\n",
    "\n",
    "4.  Write a python statement to check if the number 3 is in the list below:\n",
    "    \n",
    "    ```python\n",
    "    list1=  [1, 5, 8, 3] \n",
    "    ```\n",
    "    \n",
    "    Why would this statement produce an error:\n",
    "    \n",
    "    ```python\n",
    "    tuple(list1)[1] = 3\n",
    "    ```\n",
    "\n",
    "5.  Here are 2 cartesian co-ordinates in lists:\n",
    "    \n",
    "    ```python\n",
    "    point1 =[5,5]\n",
    "    point2 = [10,10]\n",
    "    ```\n",
    "    \n",
    "    <br>\n",
    "    \n",
    "  ![image.png](attachment:image.png)\n",
    "  \n",
    "  \n",
    "  <br>\n",
    "  \n",
    "  6. Using the distance formula shown above, write python statements to calculate <br>\n",
    "      the distance between these two points. <br>\n",
    "      Convert to tuple before beginning calculation.\n",
    "      Round answer to 2 decimal places\n",
    "  "
   ]
  },
  {
   "cell_type": "code",
   "execution_count": 2,
   "metadata": {},
   "outputs": [
    {
     "data": {
      "text/html": [
       "\n",
       "    <script>\n",
       "      function get_new_label(butn, hide) {\n",
       "          var shown = $(butn).parents(\"div.cell.code_cell\").find('div.input').is(':visible');\n",
       "          var title = $(butn).val().substr($(butn).val().indexOf(\" \") + 1)\n",
       "          return ((shown) ? 'Show ' : 'Hide ') + title\n",
       "      }\n",
       "      function code_toggle(butn, hide) {\n",
       "        $(butn).val(get_new_label(butn,hide));\n",
       "        $(hide).slideToggle();\n",
       "      };\n",
       "    </script>\n",
       "    <input type=\"submit\" value='initiated' class='toggle_button'>\n",
       "    <script>\n",
       "        var hide_area = $(\".toggle_button[value='initiated']\").parents('div.cell').prevAll().addBack().slice(-1)\n",
       "        hide_area = $(hide_area).find(\"div.input\").add($(hide_area).filter(\"div.text_cell\"))\n",
       "        $(\".toggle_button[value='initiated']\").prop(\"hide_area\", hide_area)\n",
       "        $(\".toggle_button[value='initiated']\").click(function(){\n",
       "            code_toggle(this, $(this).prop(\"hide_area\"))\n",
       "        });\n",
       "$(\".toggle_button[value='initiated']\").parents(\"div.output_area\").insertBefore($(\".toggle_button[value='initiated']\").parents(\"div.output\").find('div.output_area').first());\n",
       "    var shown = $(\".toggle_button[value='initiated']\").parents(\"div.cell.code_cell\").find('div.input').is(':visible');\n",
       "    var title = ((shown) ? 'Hide ' : 'Show ') + 'answer';\n",
       "     $(\".toggle_button[value='initiated']\").addClass(\"init_show\");\n",
       "            $(hide_area).addClass(\"init_hidden\");  $(\".toggle_button[value='initiated']\").val(title);\n",
       "    </script>"
      ],
      "text/plain": [
       "<IPython.core.display.HTML object>"
      ]
     },
     "metadata": {},
     "output_type": "display_data"
    }
   ],
   "source": [
    "# 1. \n",
    "# route1 = [['Glasgow', '09:00'],['Falkirk', '10:00'],['Edinburgh', '10:30']]\n",
    "\n",
    "#2.\n",
    "# print(len(route1))\n",
    "\n",
    "#3.\n",
    "# from datetime import timedelta\n",
    "# t1 = timedelta(hours = int(route1[2][1][0:2]), minutes = int(route1[2][1][-2:]))\n",
    "# t2 = timedelta(hours = int(route1[0][1][0:2]), minutes = int(route1[0][1][-2:]))\n",
    "\n",
    "# print(t1-t2)\n",
    "\n",
    "#4.\n",
    "# list1 =  [1, 5, 8, 3] \n",
    "# if 3 in list1:\n",
    "#     print('present')\n",
    "\n",
    "#\n",
    "# tuple(list1)[1] = 3\n",
    "\n",
    "#5.\n",
    "\n",
    "# import math\n",
    "\n",
    "# point1 =[5,5]\n",
    "# point1 = tuple(point1)\n",
    "# point2 = [10,10]\n",
    "# point2 = tuple (point2)\n",
    "# print(round(math.sqrt((point2[0] - point1[0])**2 + (point2[1] - point1[1])**2),2))\n",
    "\n",
    "toggle_code()"
   ]
  },
  {
   "cell_type": "markdown",
   "metadata": {},
   "source": [
    "## 3. 4 Dictionaries\n",
    "\n",
    "* A dictionary has a set of 'keys' and each key has a single associated value.\n",
    "\n",
    "* Instead of indexing by position as with lists and tuples, dictionaries are indexed by keys.\n",
    "\n",
    "* When presented with a key, the dictionary will return the associated value.\n",
    "\n",
    "* A dictionary key must be an immutable data type. Usually this will mean integers or strings, but it is possible to use a tuple as a dictionary key.\n",
    "\n",
    "* In contrast, a dictionary value can hold any combination of objects. Including other dictionaries to create 'nested' dictionaries.\n",
    "\n",
    "* Dictionaries are 'key-value pair' data structures, also known as a _hash_, a _map_, and a _hashmap_ in other programming languages.\n",
    "\n",
    "* Python dictionaries are created using curly brackets { }.\n",
    "\n",
    "\n",
    "\n",
    "```python\n",
    "dictionary = {key1: value1, key2:value2, ...}\n",
    "```\n",
    "    \n",
    "* Values can be indexed by using a key within square brackets.\n",
    "\n",
    "```python\n",
    "dictionary[key2]\n",
    "```\n",
    "    \n",
    "* New keys can be assigned to a dictionary by providing a new key-value pair, however, if the key already exists this will overwrite the existing value as dicitonary keys must be unique.\n",
    "\n",
    "\n",
    "Python dictionary methods listed here: https://www.w3schools.com/python/python_ref_dictionary.asp\n"
   ]
  },
  {
   "cell_type": "code",
   "execution_count": null,
   "metadata": {},
   "outputs": [],
   "source": [
    "# Example \n",
    "person1 = {'name': 'Steve', 'occupation': 'musician', 'instrument' : ['keyboards', 'guitar', 'vocals'], \n",
    "      'nationality': 'English'}\n",
    "\n",
    "print(\"Name is\" , person1['name'], 'and',\n",
    "      \"instrument 1 is \", person1['instrument'][1])\n"
   ]
  },
  {
   "cell_type": "code",
   "execution_count": null,
   "metadata": {},
   "outputs": [],
   "source": [
    "# Example 2\n",
    "person2 = {'name': 'John', 'occupation': 'Programmer', 'languages': ['python','C++','scala'], 'nationality': 'UK'}\n",
    "person2"
   ]
  },
  {
   "cell_type": "code",
   "execution_count": null,
   "metadata": {},
   "outputs": [],
   "source": [
    "# Add a new key to a dictionary\n",
    "person1['age'] = 59\n",
    "person1"
   ]
  },
  {
   "cell_type": "code",
   "execution_count": null,
   "metadata": {},
   "outputs": [],
   "source": [
    "# Update an existing key - 2 ways it can be done\n",
    "person2['occupation'] = 'Data Scientist'\n",
    "person2.update({\"postcode\": \"G51 3SR\"})"
   ]
  },
  {
   "cell_type": "code",
   "execution_count": null,
   "metadata": {},
   "outputs": [],
   "source": [
    "#get all keys\n",
    "print(person2.keys())\n",
    "#get all values\n",
    "print(person2.values())"
   ]
  },
  {
   "cell_type": "code",
   "execution_count": null,
   "metadata": {},
   "outputs": [],
   "source": [
    "#remove an item\n",
    "person2.pop(\"postcode\")"
   ]
  },
  {
   "cell_type": "code",
   "execution_count": null,
   "metadata": {},
   "outputs": [],
   "source": [
    "#check for item existance\n",
    "\"nationality\" in person2"
   ]
  },
  {
   "cell_type": "code",
   "execution_count": null,
   "metadata": {},
   "outputs": [],
   "source": [
    "#sorting a dictionary\n",
    "\n",
    "color_dict = {'red':'#FF0000',\n",
    "          'green':'#008000',\n",
    "          'black':'#000000',\n",
    "          'white':'#FFFFFF'}\n",
    "\n",
    "#sort keys\n",
    "sorted(color_dict)"
   ]
  },
  {
   "cell_type": "code",
   "execution_count": null,
   "metadata": {},
   "outputs": [],
   "source": [
    "sorted(color_dict.values())"
   ]
  },
  {
   "cell_type": "markdown",
   "metadata": {},
   "source": [
    "# Exercise 4\n",
    "\n",
    "\n",
    "    1.\n",
    "\n",
    "```python\n",
    "student_names=['Tom', 'Peter', 'Jane']\n",
    "modules =['FC107', 'FC106','MST123'] \n",
    "```\n",
    "    Using the above lists set up the following dictionary. \n",
    "\n",
    "```python\n",
    "student_modules ={'Tom': 'MST123', 'Peter': [FC107, FC106], 'Jane': 'FC106'}\n",
    "```\n",
    "\n",
    "    Zip the lists above then use to iterate and populate a dictionary\n",
    "    [('Tom', 'FC107'), ('Peter', 'FC106'), ('Jane', 'MST123')]\n",
    "    For example:   <br>\n",
    "    \n",
    "\n",
    "    2.Check if a student already exists in dictionary student_names.\n",
    "\n",
    "    3.Write Python code to concatenate following dictionaries.\n",
    "\n",
    "```python\n",
    "    dic1={1:10, 2:20}\n",
    "    dic2={3:30, 4:40} \n",
    "    dic3={5:50,6:60}  \n",
    "```        \n",
    "\n",
    "    4. Sum all the values in the concatenated dictionary\n",
    "\n",
    "    5. Count the number of records in the concatenated dictionary."
   ]
  },
  {
   "cell_type": "code",
   "execution_count": 4,
   "metadata": {},
   "outputs": [
    {
     "data": {
      "text/html": [
       "\n",
       "    <script>\n",
       "      function get_new_label(butn, hide) {\n",
       "          var shown = $(butn).parents(\"div.cell.code_cell\").find('div.input').is(':visible');\n",
       "          var title = $(butn).val().substr($(butn).val().indexOf(\" \") + 1)\n",
       "          return ((shown) ? 'Show ' : 'Hide ') + title\n",
       "      }\n",
       "      function code_toggle(butn, hide) {\n",
       "        $(butn).val(get_new_label(butn,hide));\n",
       "        $(hide).slideToggle();\n",
       "      };\n",
       "    </script>\n",
       "    <input type=\"submit\" value='initiated' class='toggle_button'>\n",
       "    <script>\n",
       "        var hide_area = $(\".toggle_button[value='initiated']\").parents('div.cell').prevAll().addBack().slice(-1)\n",
       "        hide_area = $(hide_area).find(\"div.input\").add($(hide_area).filter(\"div.text_cell\"))\n",
       "        $(\".toggle_button[value='initiated']\").prop(\"hide_area\", hide_area)\n",
       "        $(\".toggle_button[value='initiated']\").click(function(){\n",
       "            code_toggle(this, $(this).prop(\"hide_area\"))\n",
       "        });\n",
       "$(\".toggle_button[value='initiated']\").parents(\"div.output_area\").insertBefore($(\".toggle_button[value='initiated']\").parents(\"div.output\").find('div.output_area').first());\n",
       "    var shown = $(\".toggle_button[value='initiated']\").parents(\"div.cell.code_cell\").find('div.input').is(':visible');\n",
       "    var title = ((shown) ? 'Hide ' : 'Show ') + 'answer';\n",
       "     $(\".toggle_button[value='initiated']\").addClass(\"init_show\");\n",
       "            $(hide_area).addClass(\"init_hidden\");  $(\".toggle_button[value='initiated']\").val(title);\n",
       "    </script>"
      ],
      "text/plain": [
       "<IPython.core.display.HTML object>"
      ]
     },
     "metadata": {},
     "output_type": "display_data"
    }
   ],
   "source": [
    "#1. \n",
    "# student_names=['Tom', 'Peter', 'Jane']\n",
    "# modules =['FC107', 'FC106','MST123'] \n",
    "\n",
    "# student_mod = list(zip(student_names, modules))\n",
    "\n",
    "# student_mod\n",
    "#2. \n",
    "# dict1 = {}\n",
    "# for value in student_mod:\n",
    "#     if value not in dict1.keys():\n",
    "#         dict1[value[0]]= value[1]\n",
    "\n",
    "# 'Tom' in dict1.keys()\n",
    "\n",
    "#3. \n",
    "# dic1={1:10, 2:20} \n",
    "# dic2={3:30, 4:40} \n",
    "# dic3={5:50,6:60}  \n",
    "\n",
    "# dic1.update(dic2)\n",
    "# dic1.update(dic3)\n",
    "\n",
    "# dic1\n",
    "#4.\n",
    "# sum(dic1.values())\n",
    "#5.\n",
    "# len(dict1)\n",
    "\n",
    "toggle_code()"
   ]
  },
  {
   "cell_type": "code",
   "execution_count": null,
   "metadata": {},
   "outputs": [],
   "source": []
  }
 ],
 "metadata": {
  "kernelspec": {
   "display_name": "Python 3",
   "language": "python",
   "name": "python3"
  },
  "language_info": {
   "codemirror_mode": {
    "name": "ipython",
    "version": 3
   },
   "file_extension": ".py",
   "mimetype": "text/x-python",
   "name": "python",
   "nbconvert_exporter": "python",
   "pygments_lexer": "ipython3",
   "version": "3.7.6"
  }
 },
 "nbformat": 4,
 "nbformat_minor": 4
}
