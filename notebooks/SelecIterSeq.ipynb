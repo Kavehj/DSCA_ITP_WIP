{
 "cells": [
  {
   "cell_type": "markdown",
   "metadata": {},
   "source": [
    "<img src=\"https://datasciencecampus.ons.gov.uk/wp-content/uploads/sites/10/2017/03/data-science-campus-logo-new.svg\"\n",
    "             alt=\"ONS Data Science Campus Logo\"\n",
    "             width = \"240\"\n",
    "             style=\"margin: 0px 60px\"\n",
    "             />"
   ]
  },
  {
   "cell_type": "code",
   "execution_count": 6,
   "metadata": {},
   "outputs": [
    {
     "data": {
      "text/html": [
       "<style>.output {\n",
       "    font-family: ariel;\n",
       "    align-items: normal;\n",
       "    text-align: normal;\n",
       "}\n",
       "\n",
       "div.output_svg div { margin : auto; }\n",
       ".div.output_area.MathJax_Display{ text-align: center; }\n",
       "div.text_cell_render { font-family: sans-serif; }\n",
       "\n",
       "details {\n",
       "    margin: 20px 0px;\n",
       "    padding: 0px 10px;\n",
       "    border-radius: 3px;\n",
       "    border-style: solid;\n",
       "    border-color: black;\n",
       "    border-width: 2px;\n",
       "}\n",
       "details div{padding: 20px 30px;}\n",
       "details summary{font-size: 18px;}\n",
       "\n",
       "table {\n",
       "     margin: calc(auto + 10px) !important;\n",
       "     border: solid !important;\n",
       " }\n",
       "\n",
       " th, td {\n",
       "    text-align: left !important;\n",
       " }\n",
       "\n",
       " .further_box {\n",
       "    background-color:rgb(230, 230, 230);\n",
       "    border-style: solid;\n",
       "    margin: 10px 10px 10px 0px;\n",
       "    padding: 10px;\n",
       "    left:calc(auto - 20px);\n",
       " }\n",
       "\n",
       " .question_box {\n",
       "    background-color:rgb(255, 255, 225);\n",
       "    border-style: solid;\n",
       "    margin: 10px 10px 10px 0px;\n",
       "    padding: 10px;\n",
       "    left:calc(auto - 20px);\n",
       " }</style>\n",
       "     <input type=\"submit\" value='Home' id=\"initiated\" class='home_button' onclick='window.location=\"Index.ipynb\"' style='float: right; margin-right: 40px;'>\n",
       "    <script>\n",
       "    $('.home_button').not('#initiated').remove();\n",
       "    $('.home_button').removeAttr('id');\n",
       "    $(\".home_button\").insertBefore($(\"div.cell\").first());\n",
       "    \n",
       "    $('div.input.init_hidden').hide()\n",
       "    $('div.input.init_shown').show()\n",
       "    $('.toggle_button').each(function( index, element ) {\n",
       "       var prefix;\n",
       "       if (this.classList.contains('init_show')) {\n",
       "           prefix = 'Show '\n",
       "       }\n",
       "       else if (this.classList.contains('init_hide')) {\n",
       "           prefix = 'Hide '\n",
       "       };\n",
       "       $(this).val(prefix + $(this).val().substr($(this).val().indexOf(\" \") + 1))\n",
       "    });\n",
       "    IPython.OutputArea.prototype._should_scroll = function(lines) {\n",
       "        return false;\n",
       "    }\n",
       "    </script>\n",
       "    "
      ],
      "text/plain": [
       "<IPython.core.display.HTML object>"
      ]
     },
     "metadata": {},
     "output_type": "display_data"
    },
    {
     "data": {
      "text/html": [
       "\n",
       "    <script>\n",
       "      function get_new_label(butn, hide) {\n",
       "          var shown = $(butn).parents(\"div.cell.code_cell\").find('div.input').is(':visible');\n",
       "          var title = $(butn).val().substr($(butn).val().indexOf(\" \") + 1)\n",
       "          return ((shown) ? 'Show ' : 'Hide ') + title\n",
       "      }\n",
       "      function code_toggle(butn, hide) {\n",
       "        $(butn).val(get_new_label(butn,hide));\n",
       "        $(hide).slideToggle();\n",
       "      };\n",
       "    </script>\n",
       "    <input type=\"submit\" value='initiated' class='toggle_button'>\n",
       "    <script>\n",
       "        var hide_area = $(\".toggle_button[value='initiated']\").parents('div.cell').prevAll().addBack().slice(-1)\n",
       "        hide_area = $(hide_area).find(\"div.input\").add($(hide_area).filter(\"div.text_cell\"))\n",
       "        $(\".toggle_button[value='initiated']\").prop(\"hide_area\", hide_area)\n",
       "        $(\".toggle_button[value='initiated']\").click(function(){\n",
       "            code_toggle(this, $(this).prop(\"hide_area\"))\n",
       "        });\n",
       "$(\".toggle_button[value='initiated']\").parents(\"div.output_area\").insertBefore($(\".toggle_button[value='initiated']\").parents(\"div.output\").find('div.output_area').first());\n",
       "    var shown = $(\".toggle_button[value='initiated']\").parents(\"div.cell.code_cell\").find('div.input').is(':visible');\n",
       "    var title = ((shown) ? 'Hide ' : 'Show ') + 'import functions';\n",
       "     $(\".toggle_button[value='initiated']\").addClass(\"init_show\");\n",
       "            $(hide_area).addClass(\"init_hidden\");  $(\".toggle_button[value='initiated']\").val(title);\n",
       "    </script>"
      ],
      "text/plain": [
       "<IPython.core.display.HTML object>"
      ]
     },
     "metadata": {},
     "output_type": "display_data"
    }
   ],
   "source": [
    "# import the helper functions from the parent directory,\n",
    "# these help with things like graph plotting and notebook layout\n",
    "import sys\n",
    "sys.path.append('..')\n",
    "from helper_functions import *\n",
    "\n",
    "# set things like fonts etc - comes from helper_functions\n",
    "set_notebook_preferences()\n",
    "\n",
    "# add a show/hide code button - also from helper_functions\n",
    "toggle_code(title = \"import functions\")"
   ]
  },
  {
   "cell_type": "markdown",
   "metadata": {},
   "source": [
    "# Sequence, Selection, Iteration\n",
    "\n",
    "\n",
    "## 4.1 The 3 Contructs\n",
    "\n",
    "\n",
    "All programming languages have 3 elements in common. They give power to implement solutions to extremely complex problems.\n",
    "\n",
    "These 3 elements are: \n",
    "\n",
    "* Sequence \n",
    "* Selection \n",
    "* Iteration \n",
    "\n",
    "**Sequence** is the order in which instructions occur and are processed.<br>\n",
    "**Selection** determines which path a program takes when it is running. <br>\n",
    "**Iteration** is the repeated execution of a section of code when a program is running.<br>\n",
    "<br>\n",
    "There are two types of iteration:<br>\n",
    "*count-controlled iteration*<br>\n",
    "*condition-controlled iteration*<br>\n",
    "\n",
    "All programs use one or more of these constructs. The longer and more complex the program, the more these constructs will be used repeatedly."
   ]
  },
  {
   "cell_type": "markdown",
   "metadata": {},
   "source": [
    "## 4.2 Sequence"
   ]
  },
  {
   "cell_type": "code",
   "execution_count": null,
   "metadata": {},
   "outputs": [],
   "source": [
    "print (\"Hello World\")"
   ]
  },
  {
   "cell_type": "code",
   "execution_count": null,
   "metadata": {},
   "outputs": [],
   "source": [
    "name = input (\"Please input your name\")\n",
    "print (\"Hello\", name, \"Welcome to course: Introduction to Python\")"
   ]
  },
  {
   "cell_type": "markdown",
   "metadata": {},
   "source": [
    "## 4.3 Selection  \n",
    "\n",
    "\n",
    "Python, like most programming languages also has a conditional statement, in python you can use:\n",
    "```python\n",
    "if <condition>:\n",
    "    <do something>\n",
    "```\n",
    "or\n",
    "```python\n",
    "if <condition>:\n",
    "    <do something>\n",
    "else:\n",
    "    <do something>\n",
    "```\n",
    "or finally\n",
    "```python\n",
    "if <condition>:\n",
    "    <do something>\n",
    "elif <condition>:\n",
    "    <do something>\n",
    "else:\n",
    "    <do something>\n",
    "```\n",
    "You can have as many `elif` parts as are needed."
   ]
  },
  {
   "cell_type": "code",
   "execution_count": null,
   "metadata": {},
   "outputs": [],
   "source": [
    "a = 33\n",
    "b = 200\n",
    "\n",
    "if b > a:\n",
    "    print(\"b is greater than a\")"
   ]
  },
  {
   "cell_type": "code",
   "execution_count": null,
   "metadata": {},
   "outputs": [],
   "source": [
    "temperature = float(input('What is the temperature? '))\n",
    "if temperature > 70:\n",
    "        print('Wear shorts.')\n",
    "else:\n",
    "        print('Wear long pants.')\n",
    "print('Get some exercise outside.')\n"
   ]
  },
  {
   "cell_type": "code",
   "execution_count": null,
   "metadata": {},
   "outputs": [],
   "source": [
    "i = 20\n",
    "if (i == 10): \n",
    "    print (\"i is 10\") \n",
    "elif (i == 15): \n",
    "    print (\"i is 15\") \n",
    "elif (i == 20): \n",
    "    print (\"i is 20\") \n",
    "else: \n",
    "    print (\"i is not present\") "
   ]
  },
  {
   "cell_type": "markdown",
   "metadata": {},
   "source": [
    "## 4.4 Iteration \n",
    "\n",
    "In Python, some objects are **iterable**. This means that they have a method which allows sequential access to the indices in the object from 0 to n. Iterable objects **can therefore be looped over** using the built-in for loop. Iteration, in this context, means taking each item of an object, one after another.\n",
    "\n",
    "Technically, the string is the simplest iterable object. Using a for loop we can iterate over each character in the string and perform a task.\n",
    "\n",
    "**The for loop**\n",
    "\n",
    "Python’s for loop looks like this:\n",
    "\n",
    "\n",
    "```python\n",
    "for <var> in <iterable>:\n",
    "    <statement(s)>\n",
    "```\n",
    "\n",
    "<iterable> is a collection of objects—for example, a list or tuple. The <statement(s)> in the loop body are denoted by indentation, as with all Python control structures, and are executed once for each item in <iterable>. \n",
    "The loop variable <var> takes on each value sequentially.\n",
    "\n",
    "\n",
    "**The while loop**\n",
    "\n",
    "The format of a rudimentary while loop is shown below:\n",
    "\n",
    "```python\n",
    "while <expr>:\n",
    "    <statement(s)>\n",
    "```\n",
    "    \n",
    "<statement(s)> represents the block to be repeatedly executed, often referred to as the body of the loop. \n",
    "This is denoted with indentation, just as in an if statement.\n",
    "\n",
    "The controlling expression, <expr>, typically involves one or more variables that are initialized prior to starting the loop and then modified somewhere in the loop body.\n",
    "\n",
    "When a while loop is encountered, <expr> is first evaluated in Boolean context.\n",
    "If it is true, the loop body is executed. Then <expr> is checked again, and if still true, the body is executed again. This continues until <expr> becomes false, at which point program execution proceeds to the first statement beyond the loop body.\n",
    " <br>\n",
    "    \n",
    "Using the following link to \n",
    "https://www.learnpython.org/en/Loops\n",
    "interactively move through a loop in Python   \n"
   ]
  },
  {
   "cell_type": "code",
   "execution_count": null,
   "metadata": {},
   "outputs": [],
   "source": [
    "##The for loop"
   ]
  },
  {
   "cell_type": "code",
   "execution_count": null,
   "metadata": {},
   "outputs": [],
   "source": [
    "# iterate over characters in a string.\n",
    "for char in \"Data Science Campus\":\n",
    "    print(char)"
   ]
  },
  {
   "cell_type": "code",
   "execution_count": null,
   "metadata": {},
   "outputs": [],
   "source": [
    "# iterate over list of days\n",
    "days= ['Mon','Tues','Wed','Thurs','Fri']\n",
    "for item in days:\n",
    "    print(item)"
   ]
  },
  {
   "cell_type": "code",
   "execution_count": null,
   "metadata": {},
   "outputs": [],
   "source": [
    "days= ['Mon','Tues','Wed','Thurs','Fri']\n",
    "for num in range (len (days)):\n",
    "    print(num, days[num])"
   ]
  },
  {
   "cell_type": "code",
   "execution_count": null,
   "metadata": {},
   "outputs": [],
   "source": [
    "#The while loop"
   ]
  },
  {
   "cell_type": "code",
   "execution_count": null,
   "metadata": {},
   "outputs": [],
   "source": [
    "n = 5\n",
    "while n > 0:\n",
    "    n -= 1\n",
    "    print(n)"
   ]
  },
  {
   "cell_type": "code",
   "execution_count": null,
   "metadata": {},
   "outputs": [],
   "source": [
    "a = ['foo', 'bar', 'baz', 'qux', 'corge']\n",
    "while a:\n",
    "    if len(a) < 3:\n",
    "        break\n",
    "    print(a.pop())\n",
    "\n",
    "print (a)\n",
    "print('Done.')\n"
   ]
  },
  {
   "cell_type": "markdown",
   "metadata": {},
   "source": [
    "\n",
    "# Exercise 5\n",
    "\n",
    "<br>\n",
    "\n",
    "1. Print all elements and their index values in a list using a for loop. \n",
    "2. Given a list of integer elements. Make a new list which will store square of elements of previous list. \n",
    "3. Using range(1,101), make two list, one containing all even numbers and other containing all odd numbers. \n",
    "4. Initailise an empty list to hold all country names in Europe. Set up a while loop to allow a user to keep adding entries\n",
    "   to the list until he/she wants to stop.\n",
    "   <br>\n",
    "5. Using some text, defined as an example below:-\n",
    "<br>\n",
    "\n",
    "        text1 = 'The cat sat on the mat'\n",
    "        \n",
    "<br>\n",
    "       Set up a dictionary that contains the words as keys(remember the keys must be unique) and a count of the number of              times the word appeared in the text.\n",
    "       \n",
    "       Output for text1 would be:\n",
    "       \n",
    "       dict_text = {'the': 2, 'cat':1,.....}\n",
    "       \n",
    "       Ensure that words(tokens) are all lowered cased before being used in the dictionary. Use the .split(\" \") method to \n",
    "       split string into words. "
   ]
  },
  {
   "cell_type": "code",
   "execution_count": 3,
   "metadata": {},
   "outputs": [
    {
     "data": {
      "text/html": [
       "\n",
       "    <script>\n",
       "      function get_new_label(butn, hide) {\n",
       "          var shown = $(butn).parents(\"div.cell.code_cell\").find('div.input').is(':visible');\n",
       "          var title = $(butn).val().substr($(butn).val().indexOf(\" \") + 1)\n",
       "          return ((shown) ? 'Show ' : 'Hide ') + title\n",
       "      }\n",
       "      function code_toggle(butn, hide) {\n",
       "        $(butn).val(get_new_label(butn,hide));\n",
       "        $(hide).slideToggle();\n",
       "      };\n",
       "    </script>\n",
       "    <input type=\"submit\" value='initiated' class='toggle_button'>\n",
       "    <script>\n",
       "        var hide_area = $(\".toggle_button[value='initiated']\").parents('div.cell').prevAll().addBack().slice(-1)\n",
       "        hide_area = $(hide_area).find(\"div.input\").add($(hide_area).filter(\"div.text_cell\"))\n",
       "        $(\".toggle_button[value='initiated']\").prop(\"hide_area\", hide_area)\n",
       "        $(\".toggle_button[value='initiated']\").click(function(){\n",
       "            code_toggle(this, $(this).prop(\"hide_area\"))\n",
       "        });\n",
       "$(\".toggle_button[value='initiated']\").parents(\"div.output_area\").insertBefore($(\".toggle_button[value='initiated']\").parents(\"div.output\").find('div.output_area').first());\n",
       "    var shown = $(\".toggle_button[value='initiated']\").parents(\"div.cell.code_cell\").find('div.input').is(':visible');\n",
       "    var title = ((shown) ? 'Hide ' : 'Show ') + 'answer';\n",
       "     $(\".toggle_button[value='initiated']\").addClass(\"init_show\");\n",
       "            $(hide_area).addClass(\"init_hidden\");  $(\".toggle_button[value='initiated']\").val(title);\n",
       "    </script>"
      ],
      "text/plain": [
       "<IPython.core.display.HTML object>"
      ]
     },
     "metadata": {},
     "output_type": "display_data"
    }
   ],
   "source": [
    "#1. \n",
    "# thislist = [\"apple\", \"banana\", \"cherry\"]\n",
    "\n",
    "# for value, index in  enumerate (thislist):\n",
    "#     print (value, index)\n",
    "#2. \n",
    "#list1 = [11, 12, 13, 14, 15, 16]\n",
    "#list2=[]\n",
    "#for num in list1:\n",
    "#    list2.append((num)**2)\n",
    "#print (list2)\n",
    "# \n",
    "#Alternatively, list comprehensions\n",
    "#list2  = [x**2 for x in list1] # this is easier and more powerful \n",
    "#print (list2)\n",
    "#3.\n",
    "#countries = []\n",
    "#cont = 'yes'\n",
    "#while cont == 'yes' or cont == 'y' or cont =='Y':\n",
    "#    country = input(\"Add Country\")\n",
    "#    countries.append(country)\n",
    "#    cont = input(\"Would you like to continue (Y/y/yes) - to continue\")\n",
    "#4.\n",
    "#dict_text = {}\n",
    "#text1 = 'The cat sat on the mat'\n",
    "#text1 = text1.lower().split(\" \")\n",
    "\n",
    "#for word in text1:\n",
    "#    if word in dict_text.keys():\n",
    "#        dict_text[word] += 1 # this is equivalent to dict_text[word] = dict_text[word] + 1\n",
    "#    else:\n",
    "#        dict_text[word] = 1\n",
    "#print (dict_text) \n",
    "toggle_code()"
   ]
  },
  {
   "cell_type": "markdown",
   "metadata": {},
   "source": [
    "## 4.5 Some Useful Commands\n",
    "\n",
    "\n",
    "\n",
    "**range([start], stop[, step])**\n",
    "<br>\n",
    "Generates a list of numbers, which is generally used to iterate over with for loops. For further info see here\n",
    "<br>\n",
    "https://www.pythoncentral.io/pythons-range-function-explained/\n",
    "<br>\n",
    "\n",
    "To retrieve both the index and values of a list in Python use the **enumerate** function\n",
    "<br>\n",
    "For further info see https://www.afternerd.com/blog/python-enumerate/\n",
    "<br>"
   ]
  },
  {
   "cell_type": "code",
   "execution_count": null,
   "metadata": {},
   "outputs": [],
   "source": [
    "#range\n",
    "for i in range(4, 10, 2):\n",
    "     print(i)"
   ]
  },
  {
   "cell_type": "code",
   "execution_count": null,
   "metadata": {},
   "outputs": [],
   "source": [
    "# enumerate\n",
    "L = ['apples', 'bananas', 'oranges']\n",
    "for idx, val in enumerate(L):\n",
    "  print(\"index is %d and value is %s\" % (idx, val))"
   ]
  },
  {
   "cell_type": "markdown",
   "metadata": {},
   "source": [
    "**Map** applies a function to all the items in an input_list.\n",
    "A **lambda** function can take any number of arguments, but can only have one expression."
   ]
  },
  {
   "cell_type": "code",
   "execution_count": null,
   "metadata": {},
   "outputs": [],
   "source": [
    "# a way to square a list of integers\n",
    "\n",
    "def squared(x):\n",
    "    return (x**2)\n"
   ]
  },
  {
   "cell_type": "code",
   "execution_count": null,
   "metadata": {},
   "outputs": [],
   "source": [
    "integers= [1, 4, 9, 16, 25]\n",
    "squared = list(map(squared, integers))\n",
    "print (squared)"
   ]
  },
  {
   "cell_type": "code",
   "execution_count": null,
   "metadata": {},
   "outputs": [],
   "source": [
    "#Map allows us to implement this in a much simpler and nicer way, often used in combination with another function - lambda\n",
    "x = lambda a : a + 10\n",
    "print(x(5)) \n"
   ]
  },
  {
   "cell_type": "code",
   "execution_count": null,
   "metadata": {},
   "outputs": [],
   "source": [
    "integers2= [2,4,6]\n",
    "squared = list(map(lambda x:x**2, integers2))\n",
    "print(list(squared))\n"
   ]
  },
  {
   "cell_type": "markdown",
   "metadata": {},
   "source": [
    "**Filter** creates a list of elements for which a function returns true.\n"
   ]
  },
  {
   "cell_type": "code",
   "execution_count": null,
   "metadata": {},
   "outputs": [],
   "source": [
    "number_list = range(-5, 5)\n",
    "less_than_zero = list(filter(lambda x: x < 0, number_list))\n",
    "print(less_than_zero)"
   ]
  },
  {
   "cell_type": "code",
   "execution_count": null,
   "metadata": {},
   "outputs": [],
   "source": [
    "**Reduce** is a really useful function for performing some computation on a list and returning the result. "
   ]
  },
  {
   "cell_type": "code",
   "execution_count": null,
   "metadata": {},
   "outputs": [],
   "source": [
    "#So instead of:"
   ]
  },
  {
   "cell_type": "code",
   "execution_count": null,
   "metadata": {},
   "outputs": [],
   "source": [
    "product = 1\n",
    "list = [1, 2, 3, 4]\n",
    "for num in list:\n",
    "    product = product * num\n",
    "print (product)"
   ]
  },
  {
   "cell_type": "code",
   "execution_count": null,
   "metadata": {},
   "outputs": [],
   "source": [
    "#We can do this:"
   ]
  },
  {
   "cell_type": "code",
   "execution_count": null,
   "metadata": {},
   "outputs": [],
   "source": [
    "from functools import reduce\n",
    "product = reduce((lambda x, y: x * y), [1, 2, 3, 4])\n",
    "print (product)"
   ]
  },
  {
   "cell_type": "code",
   "execution_count": null,
   "metadata": {},
   "outputs": [],
   "source": []
  },
  {
   "cell_type": "markdown",
   "metadata": {},
   "source": [
    "## 4.6 Functions and Parameters\n",
    "\n",
    "A **function** is a block of code which only runs when it is called.\n",
    "You can pass data, known as **parameters**, into a function.\n",
    "A function can **return** data as a result."
   ]
  },
  {
   "cell_type": "code",
   "execution_count": null,
   "metadata": {},
   "outputs": [],
   "source": [
    "def my_function(x):\n",
    "  return 5 * x\n",
    "\n",
    "print(my_function(3))"
   ]
  },
  {
   "cell_type": "code",
   "execution_count": null,
   "metadata": {},
   "outputs": [],
   "source": [
    "def sum_two_numbers(a, b):\n",
    "    return a + b\n",
    "print (sum_two_numbers(3, 2))"
   ]
  },
  {
   "cell_type": "code",
   "execution_count": null,
   "metadata": {},
   "outputs": [],
   "source": [
    "def changeme( mylist ):\n",
    "   #This changes a passed list into this function\"\n",
    "   mylist = [1,2,3,4]; # This would assig new reference in mylist\n",
    "   print (\"Values inside the function: \", mylist)\n",
    "   return mylist \n",
    "\n",
    "# Now you can call changeme function\n",
    "mylist = [10,20,30]\n",
    "changeme( mylist )\n",
    "print (\"Values outside the function: \", mylist)"
   ]
  },
  {
   "cell_type": "markdown",
   "metadata": {},
   "source": [
    "## Exercise 6\n",
    "\n",
    "1. Write a python function to multiply any two integers (passed into the function through parameters) and return the product.\n",
    "\n",
    "2. Write a Python function to calculate the hypotenuse of a right angled triangle. Pass in the length of the other two sides as parameters.\n",
    "\n",
    "3. Here are some words in English that are known as stopwords:\n",
    "    \n",
    "    \n",
    "```python\n",
    " stop = ['you','herself','it','its', 'a', 'the', 'he', 'him']\n",
    "```\n",
    "        \n",
    "       \n",
    "Write a Python function that takes text (str) and the above stopwords as values passed to parameters. The function then removes all words in the text that are in the list stop with a space.The function should return the string with the stopwords removed.\n"
   ]
  },
  {
   "cell_type": "code",
   "execution_count": 5,
   "metadata": {},
   "outputs": [
    {
     "data": {
      "text/html": [
       "\n",
       "    <script>\n",
       "      function get_new_label(butn, hide) {\n",
       "          var shown = $(butn).parents(\"div.cell.code_cell\").find('div.input').is(':visible');\n",
       "          var title = $(butn).val().substr($(butn).val().indexOf(\" \") + 1)\n",
       "          return ((shown) ? 'Show ' : 'Hide ') + title\n",
       "      }\n",
       "      function code_toggle(butn, hide) {\n",
       "        $(butn).val(get_new_label(butn,hide));\n",
       "        $(hide).slideToggle();\n",
       "      };\n",
       "    </script>\n",
       "    <input type=\"submit\" value='initiated' class='toggle_button'>\n",
       "    <script>\n",
       "        var hide_area = $(\".toggle_button[value='initiated']\").parents('div.cell').prevAll().addBack().slice(-1)\n",
       "        hide_area = $(hide_area).find(\"div.input\").add($(hide_area).filter(\"div.text_cell\"))\n",
       "        $(\".toggle_button[value='initiated']\").prop(\"hide_area\", hide_area)\n",
       "        $(\".toggle_button[value='initiated']\").click(function(){\n",
       "            code_toggle(this, $(this).prop(\"hide_area\"))\n",
       "        });\n",
       "$(\".toggle_button[value='initiated']\").parents(\"div.output_area\").insertBefore($(\".toggle_button[value='initiated']\").parents(\"div.output\").find('div.output_area').first());\n",
       "    var shown = $(\".toggle_button[value='initiated']\").parents(\"div.cell.code_cell\").find('div.input').is(':visible');\n",
       "    var title = ((shown) ? 'Hide ' : 'Show ') + 'answer';\n",
       "     $(\".toggle_button[value='initiated']\").addClass(\"init_show\");\n",
       "            $(hide_area).addClass(\"init_hidden\");  $(\".toggle_button[value='initiated']\").val(title);\n",
       "    </script>"
      ],
      "text/plain": [
       "<IPython.core.display.HTML object>"
      ]
     },
     "metadata": {},
     "output_type": "display_data"
    }
   ],
   "source": [
    "#def mult(p1, p2):\n",
    "#    return p1*p2\n",
    "#print(mult(2,3))\n",
    "\n",
    "#import math\n",
    "#def pythagorean(aside, bside):\n",
    "#    return(math.sqrt((aside)**2 + (bside)**2))\n",
    "#print (pythagorean(5,7))\n",
    "\n",
    "#def remove_stopwords(ptext, pstop):\n",
    "#    ptext = ptext.lower().split(\" \")\n",
    "#    \n",
    "#    for index in range(len(ptext)-1,-1,-1):\n",
    "#         \n",
    "#         if ptext[index] in pstop:\n",
    "#            ptext.remove(ptext[index])\n",
    "#           \n",
    "#      \n",
    "#    ptext = \" \".join(ptext)\n",
    "#    return ptext   \n",
    "\n",
    "#print (remove_stopwords('This is a lovely cat. She has a long, furry tail', ['a','is','has']))\n",
    "\n",
    "toggle_code()"
   ]
  }
 ],
 "metadata": {
  "kernelspec": {
   "display_name": "Python 3",
   "language": "python",
   "name": "python3"
  },
  "language_info": {
   "codemirror_mode": {
    "name": "ipython",
    "version": 3
   },
   "file_extension": ".py",
   "mimetype": "text/x-python",
   "name": "python",
   "nbconvert_exporter": "python",
   "pygments_lexer": "ipython3",
   "version": "3.7.6"
  }
 },
 "nbformat": 4,
 "nbformat_minor": 4
}
